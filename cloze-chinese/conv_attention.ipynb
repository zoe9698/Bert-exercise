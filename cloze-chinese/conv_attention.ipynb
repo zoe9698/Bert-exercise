{
 "cells": [
  {
   "cell_type": "markdown",
   "id": "tender-crazy",
   "metadata": {},
   "source": [
    "分词###"
   ]
  },
  {
   "cell_type": "code",
   "execution_count": 1,
   "id": "beneficial-russell",
   "metadata": {},
   "outputs": [],
   "source": [
    "from transformers import BertTokenizer, BertModel, BertForMaskedLM\n",
    "import smoothnlp as snlp\n",
    "import re\n",
    "import torch"
   ]
  },
  {
   "cell_type": "code",
   "execution_count": 2,
   "id": "conservative-cooperation",
   "metadata": {
    "collapsed": true
   },
   "outputs": [
    {
     "name": "stdout",
     "output_type": "stream",
     "text": [
      "###（1898年3月5日-1976年1月8日），字翔宇，曾用名飞飞、伍豪、少山、冠生等，原籍浙江绍兴，1898年3月5日生于江苏淮安。1921年加入中国共产党，是伟大的马克思主义者，伟大的无产阶级革命家、政治家、军事家、外交家，党和国家主要领导人之一，中国人民解放军主要创建人之一，中华人民共和国的开国元勋，是以毛泽东同志为核心的党的第一代中央领导集体的重要成员。\n",
      "183\n",
      "103\n",
      "327\n",
      "430\n",
      "周恩来（1898年3月5日-1976年1月8日），字翔宇，曾用名飞飞、伍豪、少山、冠生等，原籍浙江绍兴，1898年3月5日生于江苏淮安。1921年加入中国共产党，是伟大的马克思主义者，伟大的无产阶级革命家、政治家、军事家、外交家，党和国家主要领导人之一，中国人民解放军主要创建人之一，中华人民共和国的开国元勋，是以###同志为核心的党的第一代中央领导集体的重要成员。\n",
      "183\n",
      "104\n",
      "327\n",
      "431\n",
      "周恩来（1898年3月5日-1976年1月8日），字翔宇，曾用名飞飞、伍豪、少山、冠生等，原籍####，1898年3月5日生于江苏淮安。1921年加入中国共产党，是伟大的马克思主义者，伟大的无产阶级革命家、政治家、军事家、外交家，党和国家主要领导人之一，中国人民解放军主要创建人之一，中华人民共和国的开国元勋，是以毛泽东同志为核心的党的第一代中央领导集体的重要成员。\n",
      "183\n",
      "104\n",
      "327\n",
      "431\n",
      "周恩来（1898年3月5日-1976年1月8日），字翔宇，曾用名飞飞、伍豪、少山、冠生等，原籍浙江绍兴，1898年3月5日生于####。1921年加入中国共产党，是伟大的马克思主义者，伟大的无产阶级革命家、政治家、军事家、外交家，党和国家主要领导人之一，中国人民解放军主要创建人之一，中华人民共和国的开国元勋，是以毛泽东同志为核心的党的第一代中央领导集体的重要成员。\n",
      "183\n",
      "104\n",
      "327\n",
      "431\n",
      "周恩来（1898年3月5日-1976年1月8日），字翔宇，曾用名飞飞、伍豪、少山、冠生等，原籍浙江绍兴，1898年3月5日生于江苏淮安。1921年加入中国###，是伟大的马克思主义者，伟大的无产阶级革命家、政治家、军事家、外交家，党和国家主要领导人之一，中国人民解放军主要创建人之一，中华人民共和国的开国元勋，是以毛泽东同志为核心的党的第一代中央领导集体的重要成员。\n",
      "183\n",
      "104\n",
      "327\n",
      "431\n",
      "###（1904年2月4日-1992年7月11日），河南省光山人，生于广西南宁，1924年加入中国社会主义青年团，1925年3月，加入中国共产党。伟大的无产阶级革命家、政治家，著名社会活动家，坚定的马克思主义者，党和国家的卓越领导人，中国妇女运动的先驱。\n",
      "127\n",
      "66\n",
      "383\n",
      "449\n",
      "邓颖超（1904年2月4日-1992年7月11日），河南省光山人，生于####，1924年加入中国社会主义青年团，1925年3月，加入中国共产党。伟大的无产阶级革命家、政治家，著名社会活动家，坚定的马克思主义者，党和国家的卓越领导人，中国妇女运动的先驱。\n",
      "127\n",
      "66\n",
      "383\n",
      "449\n",
      "邓颖超（1904年2月4日-1992年7月11日），河南省光山人，生于广西南宁，1924年加入中国社会主义青年团，1925年3月，加入中国###。伟大的无产阶级革命家、政治家，著名社会活动家，坚定的马克思主义者，党和国家的卓越领导人，中国妇女运动的先驱。\n",
      "127\n",
      "66\n",
      "383\n",
      "449\n",
      "邓颖超（1904年2月4日-1992年7月11日），河南省光山人，生于广西南宁，####年加入中国社会主义青年团，1925年3月，加入中国共产党。伟大的无产阶级革命家、政治家，著名社会活动家，坚定的马克思主义者，党和国家的卓越领导人，中国妇女运动的先驱。\n",
      "127\n",
      "68\n",
      "383\n",
      "451\n"
     ]
    }
   ],
   "source": [
    "sentences = []\n",
    "\n",
    "ubuntu_path = \"/home/zoe/文档/6.10/train.txt\"\n",
    "win_path = \"D:/数据集大荟萃/DIY/train.txt\"\n",
    "\n",
    "with open(ubuntu_path,'r',encoding=\"utf8\") as f:\n",
    "  sentences = f.readlines()\n",
    "\n",
    "max_sent_len = 512\n",
    "\n",
    "import smoothnlp as snlp\n",
    "import re\n",
    "words_list = []\n",
    "words_str = []\n",
    "sents_list = []\n",
    "masked_idxs_list = []\n",
    "for sent in sentences:\n",
    "    sent = sent.replace('\\ufeff','')\n",
    "    sent = sent.replace(' ','')\n",
    "    sent = sent[1:]\n",
    "    sent = sent.strip()\n",
    "    sents_list.append(sent)\n",
    "\n",
    "    words = snlp.segment(sent)\n",
    "    masked_idxs = []\n",
    "    for i,word in enumerate(words):\n",
    "        if word=='#':\n",
    "            words[i]='[MASK]'\n",
    "            masked_idxs.append(i+1)\n",
    "    masked_idxs_list.append(masked_idxs)\n",
    "    print(sent)\n",
    "    print(len(sent))\n",
    "    \n",
    "    words = ['[CLS]'] + words + ['[SEP]']\n",
    "    print(len(words))\n",
    "    if len(sent)<max_sent_len:\n",
    "        print((max_sent_len-len(sent)-2))\n",
    "        words = words + (max_sent_len-len(sent)-2)*[\"[PAD]\"]\n",
    "        print(len(words))\n",
    "    words_list.append(words)\n",
    "    words_str.append(\" \".join(words))"
   ]
  },
  {
   "cell_type": "code",
   "execution_count": 3,
   "id": "excess-tractor",
   "metadata": {
    "scrolled": true
   },
   "outputs": [],
   "source": [
    "#加载词典\n",
    "tokenizer = BertTokenizer.from_pretrained('bert-base-chinese')\n",
    "\n",
    "all_tokens_tensor = []\n",
    "all_segments_tensors = []\n",
    "for word_str in words_list:\n",
    "    # 将 token 转为 vocabulary 索引\n",
    "    indexed_tokens = tokenizer.convert_tokens_to_ids(word_str)\n",
    "\n",
    "    # 定义句子 A、B 索引\n",
    "    segments_ids = [0]*len(word_str)\n",
    "    \n",
    "    # 将 inputs 转为 PyTorch tensors\n",
    "    tokens_tensor = torch.tensor([indexed_tokens])\n",
    "    segments_tensors = torch.tensor([segments_ids])\n",
    "    \n",
    "    all_tokens_tensor.append(tokens_tensor)\n",
    "    all_segments_tensors.append(segments_tensors)"
   ]
  },
  {
   "cell_type": "code",
   "execution_count": 4,
   "id": "tired-holder",
   "metadata": {},
   "outputs": [
    {
     "name": "stderr",
     "output_type": "stream",
     "text": [
      "Some weights of the model checkpoint at bert-base-uncased were not used when initializing BertForMaskedLM: ['cls.seq_relationship.weight', 'cls.seq_relationship.bias']\n",
      "- This IS expected if you are initializing BertForMaskedLM from the checkpoint of a model trained on another task or with another architecture (e.g. initializing a BertForSequenceClassification model from a BertForPreTraining model).\n",
      "- This IS NOT expected if you are initializing BertForMaskedLM from the checkpoint of a model that you expect to be exactly identical (initializing a BertForSequenceClassification model from a BertForSequenceClassification model).\n"
     ]
    },
    {
     "name": "stdout",
     "output_type": "stream",
     "text": [
      "['[unused1]', '[unused2]', '[unused3]']\n",
      "['[unused85]', '[unused86]', '[unused87]']\n",
      "['[unused27]', '[unused28]', '[unused29]', '[unused30]']\n",
      "['[unused34]', '[unused35]', '[unused36]', '[unused37]']\n",
      "['[unused40]', '[unused41]', '[unused42]']\n",
      "['[unused1]', '[unused2]', '[unused3]']\n",
      "['[unused15]', '[unused16]', '[unused17]', '[unused18]']\n",
      "['[unused29]', '[unused30]', '[unused31]']\n",
      "['[unused18]', '[unused19]', '[unused20]', '[unused21]']\n"
     ]
    }
   ],
   "source": [
    "# 加载模型 pre-trained model (weights)\n",
    "model = BertForMaskedLM.from_pretrained('bert-base-uncased')\n",
    "model.eval()\n",
    " \n",
    "for tokens_tensor,segments_tensors,masked_idxs in zip(all_tokens_tensor,all_segments_tensors,masked_idxs_list):\n",
    "    # cuda\n",
    "    tokens_tensor = tokens_tensor.to('cuda')\n",
    "    segments_tensors = segments_tensors.to('cuda')\n",
    "    model.to('cuda')\n",
    "\n",
    "    # Predict all tokens\n",
    "    with torch.no_grad():\n",
    "        predictions = model(tokens_tensor, segments_tensors)\n",
    "\n",
    "    # confirm we were able to predict 'henson'\n",
    "    #predicted_index = torch.argmax(predictions[0, masked_index]).item()\n",
    "    predicted_token = tokenizer.convert_ids_to_tokens(masked_idxs)\n",
    "    print(predicted_token)"
   ]
  },
  {
   "cell_type": "code",
   "execution_count": 6,
   "id": "emerging-intake",
   "metadata": {
    "collapsed": true
   },
   "outputs": [
    {
     "name": "stdout",
     "output_type": "stream",
     "text": [
      "[CLS] [MASK] [MASK] [MASK] （ 1898年 3月5日 - 1976年 1月8日 ） ， 字 翔宇 ， 曾 用 名 飞飞 、 伍豪 、 少山 、 冠生 等 ， 原籍 浙江 绍兴 ， 1898年 3月5日 生 于 江苏 淮安 。 1921年 加入 中国 共产党 ， 是 伟大 的 马克思 主义 者 ， 伟大 的 无产阶级 革命 家 、 政治家 、 军事家 、 外交家 ， 党 和 国家 主要 领导 人 之一 ， 中国 人民 解放军 主要 创建 人 之一 ， 中华 人民 共和国 的 开国元勋 ， 是 以 毛泽东 同志 为 核心 的 党 的 第一 代 中央 领导 集体 的 重要 成员 。 [SEP] [PAD] [PAD] [PAD] [PAD] [PAD] [PAD] [PAD] [PAD] [PAD] [PAD] [PAD] [PAD] [PAD] [PAD] [PAD] [PAD] [PAD] [PAD] [PAD] [PAD] [PAD] [PAD] [PAD] [PAD] [PAD] [PAD] [PAD] [PAD] [PAD] [PAD] [PAD] [PAD] [PAD] [PAD] [PAD] [PAD] [PAD] [PAD] [PAD] [PAD] [PAD] [PAD] [PAD] [PAD] [PAD] [PAD] [PAD] [PAD] [PAD] [PAD] [PAD] [PAD] [PAD] [PAD] [PAD] [PAD] [PAD] [PAD] [PAD] [PAD] [PAD] [PAD] [PAD] [PAD] [PAD] [PAD] [PAD] [PAD] [PAD] [PAD] [PAD] [PAD] [PAD] [PAD] [PAD] [PAD] [PAD] [PAD] [PAD] [PAD] [PAD] [PAD] [PAD] [PAD] [PAD] [PAD] [PAD] [PAD] [PAD] [PAD] [PAD] [PAD] [PAD] [PAD] [PAD] [PAD] [PAD] [PAD] [PAD] [PAD] [PAD] [PAD] [PAD] [PAD] [PAD] [PAD] [PAD] [PAD] [PAD] [PAD] [PAD] [PAD] [PAD] [PAD] [PAD] [PAD] [PAD] [PAD] [PAD] [PAD] [PAD] [PAD] [PAD] [PAD] [PAD] [PAD] [PAD] [PAD] [PAD] [PAD] [PAD] [PAD] [PAD] [PAD] [PAD] [PAD] [PAD] [PAD] [PAD] [PAD] [PAD] [PAD] [PAD] [PAD] [PAD] [PAD] [PAD] [PAD] [PAD] [PAD] [PAD] [PAD] [PAD] [PAD] [PAD] [PAD] [PAD] [PAD] [PAD] [PAD] [PAD] [PAD] [PAD] [PAD] [PAD] [PAD] [PAD] [PAD] [PAD] [PAD] [PAD] [PAD] [PAD] [PAD] [PAD] [PAD] [PAD] [PAD] [PAD] [PAD] [PAD] [PAD] [PAD] [PAD] [PAD] [PAD] [PAD] [PAD] [PAD] [PAD] [PAD] [PAD] [PAD] [PAD] [PAD] [PAD] [PAD] [PAD] [PAD] [PAD] [PAD] [PAD] [PAD] [PAD] [PAD] [PAD] [PAD] [PAD] [PAD] [PAD] [PAD] [PAD] [PAD] [PAD] [PAD] [PAD] [PAD] [PAD] [PAD] [PAD] [PAD] [PAD] [PAD] [PAD] [PAD] [PAD] [PAD] [PAD] [PAD] [PAD] [PAD] [PAD] [PAD] [PAD] [PAD] [PAD] [PAD] [PAD] [PAD] [PAD] [PAD] [PAD] [PAD] [PAD] [PAD] [PAD] [PAD] [PAD] [PAD] [PAD] [PAD] [PAD] [PAD] [PAD] [PAD] [PAD] [PAD] [PAD] [PAD] [PAD] [PAD] [PAD] [PAD] [PAD] [PAD] [PAD] [PAD] [PAD] [PAD] [PAD] [PAD] [PAD] [PAD] [PAD] [PAD] [PAD] [PAD] [PAD] [PAD] [PAD] [PAD] [PAD] [PAD] [PAD] [PAD] [PAD] [PAD] [PAD] [PAD] [PAD] [PAD] [PAD] [PAD] [PAD] [PAD] [PAD] [PAD] [PAD] [PAD] [PAD] [PAD] [PAD] [PAD] [PAD] [PAD] [PAD] [PAD] [PAD] [PAD] [PAD] [PAD] [PAD] [PAD] [PAD] [PAD] [PAD] [PAD] [PAD] [PAD] [PAD] [PAD] [PAD] [PAD] [PAD] [PAD] [PAD] [PAD]\n"
     ]
    }
   ],
   "source": [
    "print(words_str[0])"
   ]
  },
  {
   "cell_type": "markdown",
   "id": "conventional-remove",
   "metadata": {},
   "source": [
    "分字###"
   ]
  },
  {
   "cell_type": "code",
   "execution_count": 7,
   "id": "willing-globe",
   "metadata": {},
   "outputs": [],
   "source": [
    "from transformers import BertTokenizer, BertModel, BertForMaskedLM\n",
    "import smoothnlp as snlp\n",
    "import re\n",
    "import torch"
   ]
  },
  {
   "cell_type": "code",
   "execution_count": 57,
   "id": "elementary-hurricane",
   "metadata": {},
   "outputs": [
    {
     "name": "stdout",
     "output_type": "stream",
     "text": [
      "chars_list: [['#', '#', '#', '（', '1', '8', '9', '8', '年', '3', '月', '5', '日', '-', '1', '9', '7', '6', '年', '1', '月', '8', '日', '）', '，', '字', '翔', '宇', '，', '曾', '用', '名', '飞', '飞', '、', '伍', '豪', '、', '少', '山', '、', '冠', '生', '等', '，', '原', '籍', '浙', '江', '绍', '兴', '，', '1', '8', '9', '8', '年', '3', '月', '5', '日', '生', '于', '江', '苏', '淮', '安', '。', '1', '9', '2', '1', '年', '加', '入', '中', '国', '共', '产', '党', '，', '是', '伟', '大', '的', '马', '克', '思', '主', '义', '者', '，', '伟', '大', '的', '无', '产', '阶', '级', '革', '命', '家', '、', '政', '治', '家', '、', '军', '事', '家', '、', '外', '交', '家', '，', '党', '和', '国', '家', '主', '要', '领', '导', '人', '之', '一', '，', '中', '国', '人', '民', '解', '放', '军', '主', '要', '创', '建', '人', '之', '一', '，', '中', '华', '人', '民', '共', '和', '国', '的', '开', '国', '元', '勋', '，', '是', '以', '毛', '泽', '东', '同', '志', '为', '核', '心', '的', '党', '的', '第', '一', '代', '中', '央', '领', '导', '集', '体', '的', '重', '要', '成', '员', '。'], ['周', '恩', '来', '（', '1', '8', '9', '8', '年', '3', '月', '5', '日', '-', '1', '9', '7', '6', '年', '1', '月', '8', '日', '）', '，', '字', '翔', '宇', '，', '曾', '用', '名', '飞', '飞', '、', '伍', '豪', '、', '少', '山', '、', '冠', '生', '等', '，', '原', '籍', '浙', '江', '绍', '兴', '，', '1', '8', '9', '8', '年', '3', '月', '5', '日', '生', '于', '江', '苏', '淮', '安', '。', '1', '9', '2', '1', '年', '加', '入', '中', '国', '共', '产', '党', '，', '是', '伟', '大', '的', '马', '克', '思', '主', '义', '者', '，', '伟', '大', '的', '无', '产', '阶', '级', '革', '命', '家', '、', '政', '治', '家', '、', '军', '事', '家', '、', '外', '交', '家', '，', '党', '和', '国', '家', '主', '要', '领', '导', '人', '之', '一', '，', '中', '国', '人', '民', '解', '放', '军', '主', '要', '创', '建', '人', '之', '一', '，', '中', '华', '人', '民', '共', '和', '国', '的', '开', '国', '元', '勋', '，', '是', '以', '#', '#', '#', '同', '志', '为', '核', '心', '的', '党', '的', '第', '一', '代', '中', '央', '领', '导', '集', '体', '的', '重', '要', '成', '员', '。'], ['周', '恩', '来', '（', '1', '8', '9', '8', '年', '3', '月', '5', '日', '-', '1', '9', '7', '6', '年', '1', '月', '8', '日', '）', '，', '字', '翔', '宇', '，', '曾', '用', '名', '飞', '飞', '、', '伍', '豪', '、', '少', '山', '、', '冠', '生', '等', '，', '原', '籍', '#', '#', '#', '#', '，', '1', '8', '9', '8', '年', '3', '月', '5', '日', '生', '于', '江', '苏', '淮', '安', '。', '1', '9', '2', '1', '年', '加', '入', '中', '国', '共', '产', '党', '，', '是', '伟', '大', '的', '马', '克', '思', '主', '义', '者', '，', '伟', '大', '的', '无', '产', '阶', '级', '革', '命', '家', '、', '政', '治', '家', '、', '军', '事', '家', '、', '外', '交', '家', '，', '党', '和', '国', '家', '主', '要', '领', '导', '人', '之', '一', '，', '中', '国', '人', '民', '解', '放', '军', '主', '要', '创', '建', '人', '之', '一', '，', '中', '华', '人', '民', '共', '和', '国', '的', '开', '国', '元', '勋', '，', '是', '以', '毛', '泽', '东', '同', '志', '为', '核', '心', '的', '党', '的', '第', '一', '代', '中', '央', '领', '导', '集', '体', '的', '重', '要', '成', '员', '。'], ['周', '恩', '来', '（', '1', '8', '9', '8', '年', '3', '月', '5', '日', '-', '1', '9', '7', '6', '年', '1', '月', '8', '日', '）', '，', '字', '翔', '宇', '，', '曾', '用', '名', '飞', '飞', '、', '伍', '豪', '、', '少', '山', '、', '冠', '生', '等', '，', '原', '籍', '浙', '江', '绍', '兴', '，', '1', '8', '9', '8', '年', '3', '月', '5', '日', '生', '于', '#', '#', '#', '#', '。', '1', '9', '2', '1', '年', '加', '入', '中', '国', '共', '产', '党', '，', '是', '伟', '大', '的', '马', '克', '思', '主', '义', '者', '，', '伟', '大', '的', '无', '产', '阶', '级', '革', '命', '家', '、', '政', '治', '家', '、', '军', '事', '家', '、', '外', '交', '家', '，', '党', '和', '国', '家', '主', '要', '领', '导', '人', '之', '一', '，', '中', '国', '人', '民', '解', '放', '军', '主', '要', '创', '建', '人', '之', '一', '，', '中', '华', '人', '民', '共', '和', '国', '的', '开', '国', '元', '勋', '，', '是', '以', '毛', '泽', '东', '同', '志', '为', '核', '心', '的', '党', '的', '第', '一', '代', '中', '央', '领', '导', '集', '体', '的', '重', '要', '成', '员', '。'], ['周', '恩', '来', '（', '1', '8', '9', '8', '年', '3', '月', '5', '日', '-', '1', '9', '7', '6', '年', '1', '月', '8', '日', '）', '，', '字', '翔', '宇', '，', '曾', '用', '名', '飞', '飞', '、', '伍', '豪', '、', '少', '山', '、', '冠', '生', '等', '，', '原', '籍', '浙', '江', '绍', '兴', '，', '1', '8', '9', '8', '年', '3', '月', '5', '日', '生', '于', '江', '苏', '淮', '安', '。', '1', '9', '2', '1', '年', '加', '入', '中', '国', '#', '#', '#', '，', '是', '伟', '大', '的', '马', '克', '思', '主', '义', '者', '，', '伟', '大', '的', '无', '产', '阶', '级', '革', '命', '家', '、', '政', '治', '家', '、', '军', '事', '家', '、', '外', '交', '家', '，', '党', '和', '国', '家', '主', '要', '领', '导', '人', '之', '一', '，', '中', '国', '人', '民', '解', '放', '军', '主', '要', '创', '建', '人', '之', '一', '，', '中', '华', '人', '民', '共', '和', '国', '的', '开', '国', '元', '勋', '，', '是', '以', '毛', '泽', '东', '同', '志', '为', '核', '心', '的', '党', '的', '第', '一', '代', '中', '央', '领', '导', '集', '体', '的', '重', '要', '成', '员', '。'], ['#', '#', '#', '（', '1', '9', '0', '4', '年', '2', '月', '4', '日', '-', '1', '9', '9', '2', '年', '7', '月', '1', '1', '日', '）', '，', '河', '南', '省', '光', '山', '人', '，', '生', '于', '广', '西', '南', '宁', '，', '1', '9', '2', '4', '年', '加', '入', '中', '国', '社', '会', '主', '义', '青', '年', '团', '，', '1', '9', '2', '5', '年', '3', '月', '，', '加', '入', '中', '国', '共', '产', '党', '。', '伟', '大', '的', '无', '产', '阶', '级', '革', '命', '家', '、', '政', '治', '家', '，', '著', '名', '社', '会', '活', '动', '家', '，', '坚', '定', '的', '马', '克', '思', '主', '义', '者', '，', '党', '和', '国', '家', '的', '卓', '越', '领', '导', '人', '，', '中', '国', '妇', '女', '运', '动', '的', '先', '驱', '。'], ['邓', '颖', '超', '（', '1', '9', '0', '4', '年', '2', '月', '4', '日', '-', '1', '9', '9', '2', '年', '7', '月', '1', '1', '日', '）', '，', '河', '南', '省', '光', '山', '人', '，', '生', '于', '#', '#', '#', '#', '，', '1', '9', '2', '4', '年', '加', '入', '中', '国', '社', '会', '主', '义', '青', '年', '团', '，', '1', '9', '2', '5', '年', '3', '月', '，', '加', '入', '中', '国', '共', '产', '党', '。', '伟', '大', '的', '无', '产', '阶', '级', '革', '命', '家', '、', '政', '治', '家', '，', '著', '名', '社', '会', '活', '动', '家', '，', '坚', '定', '的', '马', '克', '思', '主', '义', '者', '，', '党', '和', '国', '家', '的', '卓', '越', '领', '导', '人', '，', '中', '国', '妇', '女', '运', '动', '的', '先', '驱', '。'], ['邓', '颖', '超', '（', '1', '9', '0', '4', '年', '2', '月', '4', '日', '-', '1', '9', '9', '2', '年', '7', '月', '1', '1', '日', '）', '，', '河', '南', '省', '光', '山', '人', '，', '生', '于', '广', '西', '南', '宁', '，', '1', '9', '2', '4', '年', '加', '入', '中', '国', '社', '会', '主', '义', '青', '年', '团', '，', '1', '9', '2', '5', '年', '3', '月', '，', '加', '入', '中', '国', '#', '#', '#', '。', '伟', '大', '的', '无', '产', '阶', '级', '革', '命', '家', '、', '政', '治', '家', '，', '著', '名', '社', '会', '活', '动', '家', '，', '坚', '定', '的', '马', '克', '思', '主', '义', '者', '，', '党', '和', '国', '家', '的', '卓', '越', '领', '导', '人', '，', '中', '国', '妇', '女', '运', '动', '的', '先', '驱', '。'], ['邓', '颖', '超', '（', '1', '9', '0', '4', '年', '2', '月', '4', '日', '-', '1', '9', '9', '2', '年', '7', '月', '1', '1', '日', '）', '，', '河', '南', '省', '光', '山', '人', '，', '生', '于', '广', '西', '南', '宁', '，', '#', '#', '#', '#', '年', '加', '入', '中', '国', '社', '会', '主', '义', '青', '年', '团', '，', '1', '9', '2', '5', '年', '3', '月', '，', '加', '入', '中', '国', '共', '产', '党', '。', '伟', '大', '的', '无', '产', '阶', '级', '革', '命', '家', '、', '政', '治', '家', '，', '著', '名', '社', '会', '活', '动', '家', '，', '坚', '定', '的', '马', '克', '思', '主', '义', '者', '，', '党', '和', '国', '家', '的', '卓', '越', '领', '导', '人', '，', '中', '国', '妇', '女', '运', '动', '的', '先', '驱', '。']]\n",
      "chars_str: ['# # # （ 1 8 9 8 年 3 月 5 日 - 1 9 7 6 年 1 月 8 日 ） ， 字 翔 宇 ， 曾 用 名 飞 飞 、 伍 豪 、 少 山 、 冠 生 等 ， 原 籍 浙 江 绍 兴 ， 1 8 9 8 年 3 月 5 日 生 于 江 苏 淮 安 。 1 9 2 1 年 加 入 中 国 共 产 党 ， 是 伟 大 的 马 克 思 主 义 者 ， 伟 大 的 无 产 阶 级 革 命 家 、 政 治 家 、 军 事 家 、 外 交 家 ， 党 和 国 家 主 要 领 导 人 之 一 ， 中 国 人 民 解 放 军 主 要 创 建 人 之 一 ， 中 华 人 民 共 和 国 的 开 国 元 勋 ， 是 以 毛 泽 东 同 志 为 核 心 的 党 的 第 一 代 中 央 领 导 集 体 的 重 要 成 员 。', '周 恩 来 （ 1 8 9 8 年 3 月 5 日 - 1 9 7 6 年 1 月 8 日 ） ， 字 翔 宇 ， 曾 用 名 飞 飞 、 伍 豪 、 少 山 、 冠 生 等 ， 原 籍 浙 江 绍 兴 ， 1 8 9 8 年 3 月 5 日 生 于 江 苏 淮 安 。 1 9 2 1 年 加 入 中 国 共 产 党 ， 是 伟 大 的 马 克 思 主 义 者 ， 伟 大 的 无 产 阶 级 革 命 家 、 政 治 家 、 军 事 家 、 外 交 家 ， 党 和 国 家 主 要 领 导 人 之 一 ， 中 国 人 民 解 放 军 主 要 创 建 人 之 一 ， 中 华 人 民 共 和 国 的 开 国 元 勋 ， 是 以 # # # 同 志 为 核 心 的 党 的 第 一 代 中 央 领 导 集 体 的 重 要 成 员 。', '周 恩 来 （ 1 8 9 8 年 3 月 5 日 - 1 9 7 6 年 1 月 8 日 ） ， 字 翔 宇 ， 曾 用 名 飞 飞 、 伍 豪 、 少 山 、 冠 生 等 ， 原 籍 # # # # ， 1 8 9 8 年 3 月 5 日 生 于 江 苏 淮 安 。 1 9 2 1 年 加 入 中 国 共 产 党 ， 是 伟 大 的 马 克 思 主 义 者 ， 伟 大 的 无 产 阶 级 革 命 家 、 政 治 家 、 军 事 家 、 外 交 家 ， 党 和 国 家 主 要 领 导 人 之 一 ， 中 国 人 民 解 放 军 主 要 创 建 人 之 一 ， 中 华 人 民 共 和 国 的 开 国 元 勋 ， 是 以 毛 泽 东 同 志 为 核 心 的 党 的 第 一 代 中 央 领 导 集 体 的 重 要 成 员 。', '周 恩 来 （ 1 8 9 8 年 3 月 5 日 - 1 9 7 6 年 1 月 8 日 ） ， 字 翔 宇 ， 曾 用 名 飞 飞 、 伍 豪 、 少 山 、 冠 生 等 ， 原 籍 浙 江 绍 兴 ， 1 8 9 8 年 3 月 5 日 生 于 # # # # 。 1 9 2 1 年 加 入 中 国 共 产 党 ， 是 伟 大 的 马 克 思 主 义 者 ， 伟 大 的 无 产 阶 级 革 命 家 、 政 治 家 、 军 事 家 、 外 交 家 ， 党 和 国 家 主 要 领 导 人 之 一 ， 中 国 人 民 解 放 军 主 要 创 建 人 之 一 ， 中 华 人 民 共 和 国 的 开 国 元 勋 ， 是 以 毛 泽 东 同 志 为 核 心 的 党 的 第 一 代 中 央 领 导 集 体 的 重 要 成 员 。', '周 恩 来 （ 1 8 9 8 年 3 月 5 日 - 1 9 7 6 年 1 月 8 日 ） ， 字 翔 宇 ， 曾 用 名 飞 飞 、 伍 豪 、 少 山 、 冠 生 等 ， 原 籍 浙 江 绍 兴 ， 1 8 9 8 年 3 月 5 日 生 于 江 苏 淮 安 。 1 9 2 1 年 加 入 中 国 # # # ， 是 伟 大 的 马 克 思 主 义 者 ， 伟 大 的 无 产 阶 级 革 命 家 、 政 治 家 、 军 事 家 、 外 交 家 ， 党 和 国 家 主 要 领 导 人 之 一 ， 中 国 人 民 解 放 军 主 要 创 建 人 之 一 ， 中 华 人 民 共 和 国 的 开 国 元 勋 ， 是 以 毛 泽 东 同 志 为 核 心 的 党 的 第 一 代 中 央 领 导 集 体 的 重 要 成 员 。', '# # # （ 1 9 0 4 年 2 月 4 日 - 1 9 9 2 年 7 月 1 1 日 ） ， 河 南 省 光 山 人 ， 生 于 广 西 南 宁 ， 1 9 2 4 年 加 入 中 国 社 会 主 义 青 年 团 ， 1 9 2 5 年 3 月 ， 加 入 中 国 共 产 党 。 伟 大 的 无 产 阶 级 革 命 家 、 政 治 家 ， 著 名 社 会 活 动 家 ， 坚 定 的 马 克 思 主 义 者 ， 党 和 国 家 的 卓 越 领 导 人 ， 中 国 妇 女 运 动 的 先 驱 。', '邓 颖 超 （ 1 9 0 4 年 2 月 4 日 - 1 9 9 2 年 7 月 1 1 日 ） ， 河 南 省 光 山 人 ， 生 于 # # # # ， 1 9 2 4 年 加 入 中 国 社 会 主 义 青 年 团 ， 1 9 2 5 年 3 月 ， 加 入 中 国 共 产 党 。 伟 大 的 无 产 阶 级 革 命 家 、 政 治 家 ， 著 名 社 会 活 动 家 ， 坚 定 的 马 克 思 主 义 者 ， 党 和 国 家 的 卓 越 领 导 人 ， 中 国 妇 女 运 动 的 先 驱 。', '邓 颖 超 （ 1 9 0 4 年 2 月 4 日 - 1 9 9 2 年 7 月 1 1 日 ） ， 河 南 省 光 山 人 ， 生 于 广 西 南 宁 ， 1 9 2 4 年 加 入 中 国 社 会 主 义 青 年 团 ， 1 9 2 5 年 3 月 ， 加 入 中 国 # # # 。 伟 大 的 无 产 阶 级 革 命 家 、 政 治 家 ， 著 名 社 会 活 动 家 ， 坚 定 的 马 克 思 主 义 者 ， 党 和 国 家 的 卓 越 领 导 人 ， 中 国 妇 女 运 动 的 先 驱 。', '邓 颖 超 （ 1 9 0 4 年 2 月 4 日 - 1 9 9 2 年 7 月 1 1 日 ） ， 河 南 省 光 山 人 ， 生 于 广 西 南 宁 ， # # # # 年 加 入 中 国 社 会 主 义 青 年 团 ， 1 9 2 5 年 3 月 ， 加 入 中 国 共 产 党 。 伟 大 的 无 产 阶 级 革 命 家 、 政 治 家 ， 著 名 社 会 活 动 家 ， 坚 定 的 马 克 思 主 义 者 ， 党 和 国 家 的 卓 越 领 导 人 ， 中 国 妇 女 运 动 的 先 驱 。']\n",
      "masked_idxs_list: [[1, 2, 3], [158, 159, 160], [48, 49, 50, 51], [64, 65, 66, 67], [78, 79, 80], [1, 2, 3], [36, 37, 38, 39], [70, 71, 72], [41, 42, 43, 44]]\n"
     ]
    }
   ],
   "source": [
    "sentences = []\n",
    "\n",
    "ubuntu_path = \"/home/zoe/文档/6.10/train.txt\"\n",
    "win_path = \"D:/数据集大荟萃/DIY/train.txt\"\n",
    "\n",
    "with open(ubuntu_path,'r',encoding=\"utf8\") as f:\n",
    "  sentences = f.readlines()\n",
    "\n",
    "import re\n",
    "chars_list = []\n",
    "chars_str = []\n",
    "masked_idxs_list = []\n",
    "for sent in sentences:\n",
    "    #句子预处理\n",
    "    sent = sent.replace('\\ufeff','')\n",
    "    sent = sent.replace(' ','')\n",
    "    sent = sent[1:]\n",
    "    sent = sent.strip()\n",
    "    \n",
    "    chars = ' '.join(sent)\n",
    "    chars_str.append(chars)\n",
    "    chars_l = chars.split(\" \")\n",
    "    chars_list.append(chars_l)\n",
    "    \n",
    "    masked_idxs = []\n",
    "    for i,ch in enumerate(chars_l):\n",
    "        if ch=='#':\n",
    "            masked_idxs.append(i+1)\n",
    "    masked_idxs_list.append(masked_idxs)\n",
    "    \n",
    "# print(\"chars_list:\",chars_list)\n",
    "# print(\"chars_str:\",chars_str)\n",
    "# print(\"masked_idxs_list:\",masked_idxs_list)"
   ]
  },
  {
   "cell_type": "code",
   "execution_count": 58,
   "id": "scientific-lewis",
   "metadata": {},
   "outputs": [],
   "source": [
    "max_sent_len = 512\n",
    "chars_list_512,chars_str_512 = [], []\n",
    "\n",
    "for chars_l,chars in zip(chars_list,chars_str):\n",
    "#     print(len(chars_l),len(chars.split(' ')))\n",
    "    assert len(chars_l)==len(chars.split(' '))\n",
    "    if len(chars_l)<max_sent_len:\n",
    "        chars_l_512 = ['[CLS]'] + chars_l + ['[SEP]'] + (max_sent_len-3-len(chars_l))*['[PAD]'] + ['[SEP]']\n",
    "        #将#变为[MASK]\n",
    "        for i,ch in enumerate(chars_l_512):\n",
    "            if ch=='#':\n",
    "                chars_l_512[i]='[MASK]'\n",
    "        \n",
    "        chars_512 = ' '.join(chars_l_512)\n",
    "        chars_list_512.append(chars_l_512)\n",
    "        chars_str_512.append(chars_512)\n",
    "    \n",
    "    \n",
    "        \n",
    "# for chars_l,chars in zip(chars_list,chars_str):\n",
    "#     print(len(chars_l),len(chars.split(' ')))\n",
    "# for chars_l_512,chars_512 in zip(chars_list_512,chars_str_512):\n",
    "#     print(len(chars_l_512),len(chars_512.split(' ')))"
   ]
  },
  {
   "cell_type": "code",
   "execution_count": 52,
   "id": "decent-lawsuit",
   "metadata": {
    "collapsed": true
   },
   "outputs": [
    {
     "name": "stdout",
     "output_type": "stream",
     "text": [
      "['[CLS]', '[MASK]', '[MASK]', '[MASK]', '（', '1', '8', '9', '8', '年', '3', '月', '5', '日', '-', '1', '9', '7', '6', '年', '1', '月', '8', '日', '）', '，', '字', '翔', '宇', '，', '曾', '用', '名', '飞', '飞', '、', '伍', '豪', '、', '少', '山', '、', '冠', '生', '等', '，', '原', '籍', '浙', '江', '绍', '兴', '，', '1', '8', '9', '8', '年', '3', '月', '5', '日', '生', '于', '江', '苏', '淮', '安', '。', '1', '9', '2', '1', '年', '加', '入', '中', '国', '共', '产', '党', '，', '是', '伟', '大', '的', '马', '克', '思', '主', '义', '者', '，', '伟', '大', '的', '无', '产', '阶', '级', '革', '命', '家', '、', '政', '治', '家', '、', '军', '事', '家', '、', '外', '交', '家', '，', '党', '和', '国', '家', '主', '要', '领', '导', '人', '之', '一', '，', '中', '国', '人', '民', '解', '放', '军', '主', '要', '创', '建', '人', '之', '一', '，', '中', '华', '人', '民', '共', '和', '国', '的', '开', '国', '元', '勋', '，', '是', '以', '毛', '泽', '东', '同', '志', '为', '核', '心', '的', '党', '的', '第', '一', '代', '中', '央', '领', '导', '集', '体', '的', '重', '要', '成', '员', '。', '[SEP]', '[PAD]', '[PAD]', '[PAD]', '[PAD]', '[PAD]', '[PAD]', '[PAD]', '[PAD]', '[PAD]', '[PAD]', '[PAD]', '[PAD]', '[PAD]', '[PAD]', '[PAD]', '[PAD]', '[PAD]', '[PAD]', '[PAD]', '[PAD]', '[PAD]', '[PAD]', '[PAD]', '[PAD]', '[PAD]', '[PAD]', '[PAD]', '[PAD]', '[PAD]', '[PAD]', '[PAD]', '[PAD]', '[PAD]', '[PAD]', '[PAD]', '[PAD]', '[PAD]', '[PAD]', '[PAD]', '[PAD]', '[PAD]', '[PAD]', '[PAD]', '[PAD]', '[PAD]', '[PAD]', '[PAD]', '[PAD]', '[PAD]', '[PAD]', '[PAD]', '[PAD]', '[PAD]', '[PAD]', '[PAD]', '[PAD]', '[PAD]', '[PAD]', '[PAD]', '[PAD]', '[PAD]', '[PAD]', '[PAD]', '[PAD]', '[PAD]', '[PAD]', '[PAD]', '[PAD]', '[PAD]', '[PAD]', '[PAD]', '[PAD]', '[PAD]', '[PAD]', '[PAD]', '[PAD]', '[PAD]', '[PAD]', '[PAD]', '[PAD]', '[PAD]', '[PAD]', '[PAD]', '[PAD]', '[PAD]', '[PAD]', '[PAD]', '[PAD]', '[PAD]', '[PAD]', '[PAD]', '[PAD]', '[PAD]', '[PAD]', '[PAD]', '[PAD]', '[PAD]', '[PAD]', '[PAD]', '[PAD]', '[PAD]', '[PAD]', '[PAD]', '[PAD]', '[PAD]', '[PAD]', '[PAD]', '[PAD]', '[PAD]', '[PAD]', '[PAD]', '[PAD]', '[PAD]', '[PAD]', '[PAD]', '[PAD]', '[PAD]', '[PAD]', '[PAD]', '[PAD]', '[PAD]', '[PAD]', '[PAD]', '[PAD]', '[PAD]', '[PAD]', '[PAD]', '[PAD]', '[PAD]', '[PAD]', '[PAD]', '[PAD]', '[PAD]', '[PAD]', '[PAD]', '[PAD]', '[PAD]', '[PAD]', '[PAD]', '[PAD]', '[PAD]', '[PAD]', '[PAD]', '[PAD]', '[PAD]', '[PAD]', '[PAD]', '[PAD]', '[PAD]', '[PAD]', '[PAD]', '[PAD]', '[PAD]', '[PAD]', '[PAD]', '[PAD]', '[PAD]', '[PAD]', '[PAD]', '[PAD]', '[PAD]', '[PAD]', '[PAD]', '[PAD]', '[PAD]', '[PAD]', '[PAD]', '[PAD]', '[PAD]', '[PAD]', '[PAD]', '[PAD]', '[PAD]', '[PAD]', '[PAD]', '[PAD]', '[PAD]', '[PAD]', '[PAD]', '[PAD]', '[PAD]', '[PAD]', '[PAD]', '[PAD]', '[PAD]', '[PAD]', '[PAD]', '[PAD]', '[PAD]', '[PAD]', '[PAD]', '[PAD]', '[PAD]', '[PAD]', '[PAD]', '[PAD]', '[PAD]', '[PAD]', '[PAD]', '[PAD]', '[PAD]', '[PAD]', '[PAD]', '[PAD]', '[PAD]', '[PAD]', '[PAD]', '[PAD]', '[PAD]', '[PAD]', '[PAD]', '[PAD]', '[PAD]', '[PAD]', '[PAD]', '[PAD]', '[PAD]', '[PAD]', '[PAD]', '[PAD]', '[PAD]', '[PAD]', '[PAD]', '[PAD]', '[PAD]', '[PAD]', '[PAD]', '[PAD]', '[PAD]', '[PAD]', '[PAD]', '[PAD]', '[PAD]', '[PAD]', '[PAD]', '[PAD]', '[PAD]', '[PAD]', '[PAD]', '[PAD]', '[PAD]', '[PAD]', '[PAD]', '[PAD]', '[PAD]', '[PAD]', '[PAD]', '[PAD]', '[PAD]', '[PAD]', '[PAD]', '[PAD]', '[PAD]', '[PAD]', '[PAD]', '[PAD]', '[PAD]', '[PAD]', '[PAD]', '[PAD]', '[PAD]', '[PAD]', '[PAD]', '[PAD]', '[PAD]', '[PAD]', '[PAD]', '[PAD]', '[PAD]', '[PAD]', '[PAD]', '[PAD]', '[PAD]', '[PAD]', '[PAD]', '[PAD]', '[PAD]', '[PAD]', '[PAD]', '[PAD]', '[PAD]', '[PAD]', '[PAD]', '[PAD]', '[PAD]', '[PAD]', '[PAD]', '[PAD]', '[PAD]', '[PAD]', '[PAD]', '[PAD]', '[PAD]', '[PAD]', '[PAD]', '[PAD]', '[PAD]', '[PAD]', '[PAD]', '[PAD]', '[PAD]', '[PAD]', '[PAD]', '[PAD]', '[PAD]', '[PAD]', '[PAD]', '[PAD]', '[PAD]', '[PAD]', '[PAD]', '[PAD]', '[PAD]', '[PAD]', '[PAD]', '[PAD]', '[PAD]', '[PAD]', '[PAD]', '[PAD]', '[PAD]', '[PAD]', '[PAD]', '[PAD]', '[PAD]', '[PAD]', '[SEP]'] [CLS] [MASK] [MASK] [MASK] （ 1 8 9 8 年 3 月 5 日 - 1 9 7 6 年 1 月 8 日 ） ， 字 翔 宇 ， 曾 用 名 飞 飞 、 伍 豪 、 少 山 、 冠 生 等 ， 原 籍 浙 江 绍 兴 ， 1 8 9 8 年 3 月 5 日 生 于 江 苏 淮 安 。 1 9 2 1 年 加 入 中 国 共 产 党 ， 是 伟 大 的 马 克 思 主 义 者 ， 伟 大 的 无 产 阶 级 革 命 家 、 政 治 家 、 军 事 家 、 外 交 家 ， 党 和 国 家 主 要 领 导 人 之 一 ， 中 国 人 民 解 放 军 主 要 创 建 人 之 一 ， 中 华 人 民 共 和 国 的 开 国 元 勋 ， 是 以 毛 泽 东 同 志 为 核 心 的 党 的 第 一 代 中 央 领 导 集 体 的 重 要 成 员 。 [SEP] [PAD] [PAD] [PAD] [PAD] [PAD] [PAD] [PAD] [PAD] [PAD] [PAD] [PAD] [PAD] [PAD] [PAD] [PAD] [PAD] [PAD] [PAD] [PAD] [PAD] [PAD] [PAD] [PAD] [PAD] [PAD] [PAD] [PAD] [PAD] [PAD] [PAD] [PAD] [PAD] [PAD] [PAD] [PAD] [PAD] [PAD] [PAD] [PAD] [PAD] [PAD] [PAD] [PAD] [PAD] [PAD] [PAD] [PAD] [PAD] [PAD] [PAD] [PAD] [PAD] [PAD] [PAD] [PAD] [PAD] [PAD] [PAD] [PAD] [PAD] [PAD] [PAD] [PAD] [PAD] [PAD] [PAD] [PAD] [PAD] [PAD] [PAD] [PAD] [PAD] [PAD] [PAD] [PAD] [PAD] [PAD] [PAD] [PAD] [PAD] [PAD] [PAD] [PAD] [PAD] [PAD] [PAD] [PAD] [PAD] [PAD] [PAD] [PAD] [PAD] [PAD] [PAD] [PAD] [PAD] [PAD] [PAD] [PAD] [PAD] [PAD] [PAD] [PAD] [PAD] [PAD] [PAD] [PAD] [PAD] [PAD] [PAD] [PAD] [PAD] [PAD] [PAD] [PAD] [PAD] [PAD] [PAD] [PAD] [PAD] [PAD] [PAD] [PAD] [PAD] [PAD] [PAD] [PAD] [PAD] [PAD] [PAD] [PAD] [PAD] [PAD] [PAD] [PAD] [PAD] [PAD] [PAD] [PAD] [PAD] [PAD] [PAD] [PAD] [PAD] [PAD] [PAD] [PAD] [PAD] [PAD] [PAD] [PAD] [PAD] [PAD] [PAD] [PAD] [PAD] [PAD] [PAD] [PAD] [PAD] [PAD] [PAD] [PAD] [PAD] [PAD] [PAD] [PAD] [PAD] [PAD] [PAD] [PAD] [PAD] [PAD] [PAD] [PAD] [PAD] [PAD] [PAD] [PAD] [PAD] [PAD] [PAD] [PAD] [PAD] [PAD] [PAD] [PAD] [PAD] [PAD] [PAD] [PAD] [PAD] [PAD] [PAD] [PAD] [PAD] [PAD] [PAD] [PAD] [PAD] [PAD] [PAD] [PAD] [PAD] [PAD] [PAD] [PAD] [PAD] [PAD] [PAD] [PAD] [PAD] [PAD] [PAD] [PAD] [PAD] [PAD] [PAD] [PAD] [PAD] [PAD] [PAD] [PAD] [PAD] [PAD] [PAD] [PAD] [PAD] [PAD] [PAD] [PAD] [PAD] [PAD] [PAD] [PAD] [PAD] [PAD] [PAD] [PAD] [PAD] [PAD] [PAD] [PAD] [PAD] [PAD] [PAD] [PAD] [PAD] [PAD] [PAD] [PAD] [PAD] [PAD] [PAD] [PAD] [PAD] [PAD] [PAD] [PAD] [PAD] [PAD] [PAD] [PAD] [PAD] [PAD] [PAD] [PAD] [PAD] [PAD] [PAD] [PAD] [PAD] [PAD] [PAD] [PAD] [PAD] [PAD] [PAD] [PAD] [PAD] [PAD] [PAD] [PAD] [PAD] [PAD] [PAD] [PAD] [PAD] [PAD] [PAD] [PAD] [PAD] [PAD] [PAD] [PAD] [PAD] [PAD] [PAD] [PAD] [PAD] [PAD] [PAD] [PAD] [PAD] [PAD] [PAD] [PAD] [PAD] [PAD] [PAD] [PAD] [PAD] [PAD] [PAD] [PAD] [PAD] [PAD] [PAD] [PAD] [PAD] [PAD] [PAD] [PAD] [PAD] [PAD] [PAD] [SEP]\n",
      "['[CLS]', '周', '恩', '来', '（', '1', '8', '9', '8', '年', '3', '月', '5', '日', '-', '1', '9', '7', '6', '年', '1', '月', '8', '日', '）', '，', '字', '翔', '宇', '，', '曾', '用', '名', '飞', '飞', '、', '伍', '豪', '、', '少', '山', '、', '冠', '生', '等', '，', '原', '籍', '浙', '江', '绍', '兴', '，', '1', '8', '9', '8', '年', '3', '月', '5', '日', '生', '于', '江', '苏', '淮', '安', '。', '1', '9', '2', '1', '年', '加', '入', '中', '国', '共', '产', '党', '，', '是', '伟', '大', '的', '马', '克', '思', '主', '义', '者', '，', '伟', '大', '的', '无', '产', '阶', '级', '革', '命', '家', '、', '政', '治', '家', '、', '军', '事', '家', '、', '外', '交', '家', '，', '党', '和', '国', '家', '主', '要', '领', '导', '人', '之', '一', '，', '中', '国', '人', '民', '解', '放', '军', '主', '要', '创', '建', '人', '之', '一', '，', '中', '华', '人', '民', '共', '和', '国', '的', '开', '国', '元', '勋', '，', '是', '以', '[MASK]', '[MASK]', '[MASK]', '同', '志', '为', '核', '心', '的', '党', '的', '第', '一', '代', '中', '央', '领', '导', '集', '体', '的', '重', '要', '成', '员', '。', '[SEP]', '[PAD]', '[PAD]', '[PAD]', '[PAD]', '[PAD]', '[PAD]', '[PAD]', '[PAD]', '[PAD]', '[PAD]', '[PAD]', '[PAD]', '[PAD]', '[PAD]', '[PAD]', '[PAD]', '[PAD]', '[PAD]', '[PAD]', '[PAD]', '[PAD]', '[PAD]', '[PAD]', '[PAD]', '[PAD]', '[PAD]', '[PAD]', '[PAD]', '[PAD]', '[PAD]', '[PAD]', '[PAD]', '[PAD]', '[PAD]', '[PAD]', '[PAD]', '[PAD]', '[PAD]', '[PAD]', '[PAD]', '[PAD]', '[PAD]', '[PAD]', '[PAD]', '[PAD]', '[PAD]', '[PAD]', '[PAD]', '[PAD]', '[PAD]', '[PAD]', '[PAD]', '[PAD]', '[PAD]', '[PAD]', '[PAD]', '[PAD]', '[PAD]', '[PAD]', '[PAD]', '[PAD]', '[PAD]', '[PAD]', '[PAD]', '[PAD]', '[PAD]', '[PAD]', '[PAD]', '[PAD]', '[PAD]', '[PAD]', '[PAD]', '[PAD]', '[PAD]', '[PAD]', '[PAD]', '[PAD]', '[PAD]', '[PAD]', '[PAD]', '[PAD]', '[PAD]', '[PAD]', '[PAD]', '[PAD]', '[PAD]', '[PAD]', '[PAD]', '[PAD]', '[PAD]', '[PAD]', '[PAD]', '[PAD]', '[PAD]', '[PAD]', '[PAD]', '[PAD]', '[PAD]', '[PAD]', '[PAD]', '[PAD]', '[PAD]', '[PAD]', '[PAD]', '[PAD]', '[PAD]', '[PAD]', '[PAD]', '[PAD]', '[PAD]', '[PAD]', '[PAD]', '[PAD]', '[PAD]', '[PAD]', '[PAD]', '[PAD]', '[PAD]', '[PAD]', '[PAD]', '[PAD]', '[PAD]', '[PAD]', '[PAD]', '[PAD]', '[PAD]', '[PAD]', '[PAD]', '[PAD]', '[PAD]', '[PAD]', '[PAD]', '[PAD]', '[PAD]', '[PAD]', '[PAD]', '[PAD]', '[PAD]', '[PAD]', '[PAD]', '[PAD]', '[PAD]', '[PAD]', '[PAD]', '[PAD]', '[PAD]', '[PAD]', '[PAD]', '[PAD]', '[PAD]', '[PAD]', '[PAD]', '[PAD]', '[PAD]', '[PAD]', '[PAD]', '[PAD]', '[PAD]', '[PAD]', '[PAD]', '[PAD]', '[PAD]', '[PAD]', '[PAD]', '[PAD]', '[PAD]', '[PAD]', '[PAD]', '[PAD]', '[PAD]', '[PAD]', '[PAD]', '[PAD]', '[PAD]', '[PAD]', '[PAD]', '[PAD]', '[PAD]', '[PAD]', '[PAD]', '[PAD]', '[PAD]', '[PAD]', '[PAD]', '[PAD]', '[PAD]', '[PAD]', '[PAD]', '[PAD]', '[PAD]', '[PAD]', '[PAD]', '[PAD]', '[PAD]', '[PAD]', '[PAD]', '[PAD]', '[PAD]', '[PAD]', '[PAD]', '[PAD]', '[PAD]', '[PAD]', '[PAD]', '[PAD]', '[PAD]', '[PAD]', '[PAD]', '[PAD]', '[PAD]', '[PAD]', '[PAD]', '[PAD]', '[PAD]', '[PAD]', '[PAD]', '[PAD]', '[PAD]', '[PAD]', '[PAD]', '[PAD]', '[PAD]', '[PAD]', '[PAD]', '[PAD]', '[PAD]', '[PAD]', '[PAD]', '[PAD]', '[PAD]', '[PAD]', '[PAD]', '[PAD]', '[PAD]', '[PAD]', '[PAD]', '[PAD]', '[PAD]', '[PAD]', '[PAD]', '[PAD]', '[PAD]', '[PAD]', '[PAD]', '[PAD]', '[PAD]', '[PAD]', '[PAD]', '[PAD]', '[PAD]', '[PAD]', '[PAD]', '[PAD]', '[PAD]', '[PAD]', '[PAD]', '[PAD]', '[PAD]', '[PAD]', '[PAD]', '[PAD]', '[PAD]', '[PAD]', '[PAD]', '[PAD]', '[PAD]', '[PAD]', '[PAD]', '[PAD]', '[PAD]', '[PAD]', '[PAD]', '[PAD]', '[PAD]', '[PAD]', '[PAD]', '[PAD]', '[PAD]', '[PAD]', '[PAD]', '[PAD]', '[PAD]', '[PAD]', '[PAD]', '[PAD]', '[PAD]', '[PAD]', '[PAD]', '[PAD]', '[PAD]', '[PAD]', '[PAD]', '[PAD]', '[PAD]', '[PAD]', '[PAD]', '[PAD]', '[PAD]', '[PAD]', '[PAD]', '[PAD]', '[PAD]', '[PAD]', '[PAD]', '[PAD]', '[PAD]', '[PAD]', '[PAD]', '[PAD]', '[PAD]', '[PAD]', '[PAD]', '[PAD]', '[PAD]', '[PAD]', '[PAD]', '[PAD]', '[PAD]', '[PAD]', '[PAD]', '[PAD]', '[PAD]', '[PAD]', '[PAD]', '[PAD]', '[PAD]', '[SEP]'] [CLS] 周 恩 来 （ 1 8 9 8 年 3 月 5 日 - 1 9 7 6 年 1 月 8 日 ） ， 字 翔 宇 ， 曾 用 名 飞 飞 、 伍 豪 、 少 山 、 冠 生 等 ， 原 籍 浙 江 绍 兴 ， 1 8 9 8 年 3 月 5 日 生 于 江 苏 淮 安 。 1 9 2 1 年 加 入 中 国 共 产 党 ， 是 伟 大 的 马 克 思 主 义 者 ， 伟 大 的 无 产 阶 级 革 命 家 、 政 治 家 、 军 事 家 、 外 交 家 ， 党 和 国 家 主 要 领 导 人 之 一 ， 中 国 人 民 解 放 军 主 要 创 建 人 之 一 ， 中 华 人 民 共 和 国 的 开 国 元 勋 ， 是 以 [MASK] [MASK] [MASK] 同 志 为 核 心 的 党 的 第 一 代 中 央 领 导 集 体 的 重 要 成 员 。 [SEP] [PAD] [PAD] [PAD] [PAD] [PAD] [PAD] [PAD] [PAD] [PAD] [PAD] [PAD] [PAD] [PAD] [PAD] [PAD] [PAD] [PAD] [PAD] [PAD] [PAD] [PAD] [PAD] [PAD] [PAD] [PAD] [PAD] [PAD] [PAD] [PAD] [PAD] [PAD] [PAD] [PAD] [PAD] [PAD] [PAD] [PAD] [PAD] [PAD] [PAD] [PAD] [PAD] [PAD] [PAD] [PAD] [PAD] [PAD] [PAD] [PAD] [PAD] [PAD] [PAD] [PAD] [PAD] [PAD] [PAD] [PAD] [PAD] [PAD] [PAD] [PAD] [PAD] [PAD] [PAD] [PAD] [PAD] [PAD] [PAD] [PAD] [PAD] [PAD] [PAD] [PAD] [PAD] [PAD] [PAD] [PAD] [PAD] [PAD] [PAD] [PAD] [PAD] [PAD] [PAD] [PAD] [PAD] [PAD] [PAD] [PAD] [PAD] [PAD] [PAD] [PAD] [PAD] [PAD] [PAD] [PAD] [PAD] [PAD] [PAD] [PAD] [PAD] [PAD] [PAD] [PAD] [PAD] [PAD] [PAD] [PAD] [PAD] [PAD] [PAD] [PAD] [PAD] [PAD] [PAD] [PAD] [PAD] [PAD] [PAD] [PAD] [PAD] [PAD] [PAD] [PAD] [PAD] [PAD] [PAD] [PAD] [PAD] [PAD] [PAD] [PAD] [PAD] [PAD] [PAD] [PAD] [PAD] [PAD] [PAD] [PAD] [PAD] [PAD] [PAD] [PAD] [PAD] [PAD] [PAD] [PAD] [PAD] [PAD] [PAD] [PAD] [PAD] [PAD] [PAD] [PAD] [PAD] [PAD] [PAD] [PAD] [PAD] [PAD] [PAD] [PAD] [PAD] [PAD] [PAD] [PAD] [PAD] [PAD] [PAD] [PAD] [PAD] [PAD] [PAD] [PAD] [PAD] [PAD] [PAD] [PAD] [PAD] [PAD] [PAD] [PAD] [PAD] [PAD] [PAD] [PAD] [PAD] [PAD] [PAD] [PAD] [PAD] [PAD] [PAD] [PAD] [PAD] [PAD] [PAD] [PAD] [PAD] [PAD] [PAD] [PAD] [PAD] [PAD] [PAD] [PAD] [PAD] [PAD] [PAD] [PAD] [PAD] [PAD] [PAD] [PAD] [PAD] [PAD] [PAD] [PAD] [PAD] [PAD] [PAD] [PAD] [PAD] [PAD] [PAD] [PAD] [PAD] [PAD] [PAD] [PAD] [PAD] [PAD] [PAD] [PAD] [PAD] [PAD] [PAD] [PAD] [PAD] [PAD] [PAD] [PAD] [PAD] [PAD] [PAD] [PAD] [PAD] [PAD] [PAD] [PAD] [PAD] [PAD] [PAD] [PAD] [PAD] [PAD] [PAD] [PAD] [PAD] [PAD] [PAD] [PAD] [PAD] [PAD] [PAD] [PAD] [PAD] [PAD] [PAD] [PAD] [PAD] [PAD] [PAD] [PAD] [PAD] [PAD] [PAD] [PAD] [PAD] [PAD] [PAD] [PAD] [PAD] [PAD] [PAD] [PAD] [PAD] [PAD] [PAD] [PAD] [PAD] [PAD] [PAD] [PAD] [PAD] [PAD] [PAD] [PAD] [PAD] [PAD] [PAD] [PAD] [PAD] [PAD] [PAD] [PAD] [PAD] [PAD] [PAD] [PAD] [PAD] [PAD] [PAD] [PAD] [PAD] [PAD] [PAD] [PAD] [PAD] [PAD] [PAD] [PAD] [PAD] [SEP]\n",
      "['[CLS]', '周', '恩', '来', '（', '1', '8', '9', '8', '年', '3', '月', '5', '日', '-', '1', '9', '7', '6', '年', '1', '月', '8', '日', '）', '，', '字', '翔', '宇', '，', '曾', '用', '名', '飞', '飞', '、', '伍', '豪', '、', '少', '山', '、', '冠', '生', '等', '，', '原', '籍', '[MASK]', '[MASK]', '[MASK]', '[MASK]', '，', '1', '8', '9', '8', '年', '3', '月', '5', '日', '生', '于', '江', '苏', '淮', '安', '。', '1', '9', '2', '1', '年', '加', '入', '中', '国', '共', '产', '党', '，', '是', '伟', '大', '的', '马', '克', '思', '主', '义', '者', '，', '伟', '大', '的', '无', '产', '阶', '级', '革', '命', '家', '、', '政', '治', '家', '、', '军', '事', '家', '、', '外', '交', '家', '，', '党', '和', '国', '家', '主', '要', '领', '导', '人', '之', '一', '，', '中', '国', '人', '民', '解', '放', '军', '主', '要', '创', '建', '人', '之', '一', '，', '中', '华', '人', '民', '共', '和', '国', '的', '开', '国', '元', '勋', '，', '是', '以', '毛', '泽', '东', '同', '志', '为', '核', '心', '的', '党', '的', '第', '一', '代', '中', '央', '领', '导', '集', '体', '的', '重', '要', '成', '员', '。', '[SEP]', '[PAD]', '[PAD]', '[PAD]', '[PAD]', '[PAD]', '[PAD]', '[PAD]', '[PAD]', '[PAD]', '[PAD]', '[PAD]', '[PAD]', '[PAD]', '[PAD]', '[PAD]', '[PAD]', '[PAD]', '[PAD]', '[PAD]', '[PAD]', '[PAD]', '[PAD]', '[PAD]', '[PAD]', '[PAD]', '[PAD]', '[PAD]', '[PAD]', '[PAD]', '[PAD]', '[PAD]', '[PAD]', '[PAD]', '[PAD]', '[PAD]', '[PAD]', '[PAD]', '[PAD]', '[PAD]', '[PAD]', '[PAD]', '[PAD]', '[PAD]', '[PAD]', '[PAD]', '[PAD]', '[PAD]', '[PAD]', '[PAD]', '[PAD]', '[PAD]', '[PAD]', '[PAD]', '[PAD]', '[PAD]', '[PAD]', '[PAD]', '[PAD]', '[PAD]', '[PAD]', '[PAD]', '[PAD]', '[PAD]', '[PAD]', '[PAD]', '[PAD]', '[PAD]', '[PAD]', '[PAD]', '[PAD]', '[PAD]', '[PAD]', '[PAD]', '[PAD]', '[PAD]', '[PAD]', '[PAD]', '[PAD]', '[PAD]', '[PAD]', '[PAD]', '[PAD]', '[PAD]', '[PAD]', '[PAD]', '[PAD]', '[PAD]', '[PAD]', '[PAD]', '[PAD]', '[PAD]', '[PAD]', '[PAD]', '[PAD]', '[PAD]', '[PAD]', '[PAD]', '[PAD]', '[PAD]', '[PAD]', '[PAD]', '[PAD]', '[PAD]', '[PAD]', '[PAD]', '[PAD]', '[PAD]', '[PAD]', '[PAD]', '[PAD]', '[PAD]', '[PAD]', '[PAD]', '[PAD]', '[PAD]', '[PAD]', '[PAD]', '[PAD]', '[PAD]', '[PAD]', '[PAD]', '[PAD]', '[PAD]', '[PAD]', '[PAD]', '[PAD]', '[PAD]', '[PAD]', '[PAD]', '[PAD]', '[PAD]', '[PAD]', '[PAD]', '[PAD]', '[PAD]', '[PAD]', '[PAD]', '[PAD]', '[PAD]', '[PAD]', '[PAD]', '[PAD]', '[PAD]', '[PAD]', '[PAD]', '[PAD]', '[PAD]', '[PAD]', '[PAD]', '[PAD]', '[PAD]', '[PAD]', '[PAD]', '[PAD]', '[PAD]', '[PAD]', '[PAD]', '[PAD]', '[PAD]', '[PAD]', '[PAD]', '[PAD]', '[PAD]', '[PAD]', '[PAD]', '[PAD]', '[PAD]', '[PAD]', '[PAD]', '[PAD]', '[PAD]', '[PAD]', '[PAD]', '[PAD]', '[PAD]', '[PAD]', '[PAD]', '[PAD]', '[PAD]', '[PAD]', '[PAD]', '[PAD]', '[PAD]', '[PAD]', '[PAD]', '[PAD]', '[PAD]', '[PAD]', '[PAD]', '[PAD]', '[PAD]', '[PAD]', '[PAD]', '[PAD]', '[PAD]', '[PAD]', '[PAD]', '[PAD]', '[PAD]', '[PAD]', '[PAD]', '[PAD]', '[PAD]', '[PAD]', '[PAD]', '[PAD]', '[PAD]', '[PAD]', '[PAD]', '[PAD]', '[PAD]', '[PAD]', '[PAD]', '[PAD]', '[PAD]', '[PAD]', '[PAD]', '[PAD]', '[PAD]', '[PAD]', '[PAD]', '[PAD]', '[PAD]', '[PAD]', '[PAD]', '[PAD]', '[PAD]', '[PAD]', '[PAD]', '[PAD]', '[PAD]', '[PAD]', '[PAD]', '[PAD]', '[PAD]', '[PAD]', '[PAD]', '[PAD]', '[PAD]', '[PAD]', '[PAD]', '[PAD]', '[PAD]', '[PAD]', '[PAD]', '[PAD]', '[PAD]', '[PAD]', '[PAD]', '[PAD]', '[PAD]', '[PAD]', '[PAD]', '[PAD]', '[PAD]', '[PAD]', '[PAD]', '[PAD]', '[PAD]', '[PAD]', '[PAD]', '[PAD]', '[PAD]', '[PAD]', '[PAD]', '[PAD]', '[PAD]', '[PAD]', '[PAD]', '[PAD]', '[PAD]', '[PAD]', '[PAD]', '[PAD]', '[PAD]', '[PAD]', '[PAD]', '[PAD]', '[PAD]', '[PAD]', '[PAD]', '[PAD]', '[PAD]', '[PAD]', '[PAD]', '[PAD]', '[PAD]', '[PAD]', '[PAD]', '[PAD]', '[PAD]', '[PAD]', '[PAD]', '[PAD]', '[PAD]', '[PAD]', '[PAD]', '[PAD]', '[PAD]', '[PAD]', '[PAD]', '[PAD]', '[PAD]', '[PAD]', '[PAD]', '[PAD]', '[PAD]', '[PAD]', '[PAD]', '[PAD]', '[PAD]', '[PAD]', '[PAD]', '[PAD]', '[PAD]', '[PAD]', '[PAD]', '[PAD]', '[PAD]', '[PAD]', '[PAD]', '[PAD]', '[PAD]', '[PAD]', '[PAD]', '[PAD]', '[SEP]'] [CLS] 周 恩 来 （ 1 8 9 8 年 3 月 5 日 - 1 9 7 6 年 1 月 8 日 ） ， 字 翔 宇 ， 曾 用 名 飞 飞 、 伍 豪 、 少 山 、 冠 生 等 ， 原 籍 [MASK] [MASK] [MASK] [MASK] ， 1 8 9 8 年 3 月 5 日 生 于 江 苏 淮 安 。 1 9 2 1 年 加 入 中 国 共 产 党 ， 是 伟 大 的 马 克 思 主 义 者 ， 伟 大 的 无 产 阶 级 革 命 家 、 政 治 家 、 军 事 家 、 外 交 家 ， 党 和 国 家 主 要 领 导 人 之 一 ， 中 国 人 民 解 放 军 主 要 创 建 人 之 一 ， 中 华 人 民 共 和 国 的 开 国 元 勋 ， 是 以 毛 泽 东 同 志 为 核 心 的 党 的 第 一 代 中 央 领 导 集 体 的 重 要 成 员 。 [SEP] [PAD] [PAD] [PAD] [PAD] [PAD] [PAD] [PAD] [PAD] [PAD] [PAD] [PAD] [PAD] [PAD] [PAD] [PAD] [PAD] [PAD] [PAD] [PAD] [PAD] [PAD] [PAD] [PAD] [PAD] [PAD] [PAD] [PAD] [PAD] [PAD] [PAD] [PAD] [PAD] [PAD] [PAD] [PAD] [PAD] [PAD] [PAD] [PAD] [PAD] [PAD] [PAD] [PAD] [PAD] [PAD] [PAD] [PAD] [PAD] [PAD] [PAD] [PAD] [PAD] [PAD] [PAD] [PAD] [PAD] [PAD] [PAD] [PAD] [PAD] [PAD] [PAD] [PAD] [PAD] [PAD] [PAD] [PAD] [PAD] [PAD] [PAD] [PAD] [PAD] [PAD] [PAD] [PAD] [PAD] [PAD] [PAD] [PAD] [PAD] [PAD] [PAD] [PAD] [PAD] [PAD] [PAD] [PAD] [PAD] [PAD] [PAD] [PAD] [PAD] [PAD] [PAD] [PAD] [PAD] [PAD] [PAD] [PAD] [PAD] [PAD] [PAD] [PAD] [PAD] [PAD] [PAD] [PAD] [PAD] [PAD] [PAD] [PAD] [PAD] [PAD] [PAD] [PAD] [PAD] [PAD] [PAD] [PAD] [PAD] [PAD] [PAD] [PAD] [PAD] [PAD] [PAD] [PAD] [PAD] [PAD] [PAD] [PAD] [PAD] [PAD] [PAD] [PAD] [PAD] [PAD] [PAD] [PAD] [PAD] [PAD] [PAD] [PAD] [PAD] [PAD] [PAD] [PAD] [PAD] [PAD] [PAD] [PAD] [PAD] [PAD] [PAD] [PAD] [PAD] [PAD] [PAD] [PAD] [PAD] [PAD] [PAD] [PAD] [PAD] [PAD] [PAD] [PAD] [PAD] [PAD] [PAD] [PAD] [PAD] [PAD] [PAD] [PAD] [PAD] [PAD] [PAD] [PAD] [PAD] [PAD] [PAD] [PAD] [PAD] [PAD] [PAD] [PAD] [PAD] [PAD] [PAD] [PAD] [PAD] [PAD] [PAD] [PAD] [PAD] [PAD] [PAD] [PAD] [PAD] [PAD] [PAD] [PAD] [PAD] [PAD] [PAD] [PAD] [PAD] [PAD] [PAD] [PAD] [PAD] [PAD] [PAD] [PAD] [PAD] [PAD] [PAD] [PAD] [PAD] [PAD] [PAD] [PAD] [PAD] [PAD] [PAD] [PAD] [PAD] [PAD] [PAD] [PAD] [PAD] [PAD] [PAD] [PAD] [PAD] [PAD] [PAD] [PAD] [PAD] [PAD] [PAD] [PAD] [PAD] [PAD] [PAD] [PAD] [PAD] [PAD] [PAD] [PAD] [PAD] [PAD] [PAD] [PAD] [PAD] [PAD] [PAD] [PAD] [PAD] [PAD] [PAD] [PAD] [PAD] [PAD] [PAD] [PAD] [PAD] [PAD] [PAD] [PAD] [PAD] [PAD] [PAD] [PAD] [PAD] [PAD] [PAD] [PAD] [PAD] [PAD] [PAD] [PAD] [PAD] [PAD] [PAD] [PAD] [PAD] [PAD] [PAD] [PAD] [PAD] [PAD] [PAD] [PAD] [PAD] [PAD] [PAD] [PAD] [PAD] [PAD] [PAD] [PAD] [PAD] [PAD] [PAD] [PAD] [PAD] [PAD] [PAD] [PAD] [PAD] [PAD] [PAD] [PAD] [PAD] [PAD] [PAD] [PAD] [PAD] [PAD] [PAD] [PAD] [PAD] [PAD] [PAD] [SEP]\n",
      "['[CLS]', '周', '恩', '来', '（', '1', '8', '9', '8', '年', '3', '月', '5', '日', '-', '1', '9', '7', '6', '年', '1', '月', '8', '日', '）', '，', '字', '翔', '宇', '，', '曾', '用', '名', '飞', '飞', '、', '伍', '豪', '、', '少', '山', '、', '冠', '生', '等', '，', '原', '籍', '浙', '江', '绍', '兴', '，', '1', '8', '9', '8', '年', '3', '月', '5', '日', '生', '于', '[MASK]', '[MASK]', '[MASK]', '[MASK]', '。', '1', '9', '2', '1', '年', '加', '入', '中', '国', '共', '产', '党', '，', '是', '伟', '大', '的', '马', '克', '思', '主', '义', '者', '，', '伟', '大', '的', '无', '产', '阶', '级', '革', '命', '家', '、', '政', '治', '家', '、', '军', '事', '家', '、', '外', '交', '家', '，', '党', '和', '国', '家', '主', '要', '领', '导', '人', '之', '一', '，', '中', '国', '人', '民', '解', '放', '军', '主', '要', '创', '建', '人', '之', '一', '，', '中', '华', '人', '民', '共', '和', '国', '的', '开', '国', '元', '勋', '，', '是', '以', '毛', '泽', '东', '同', '志', '为', '核', '心', '的', '党', '的', '第', '一', '代', '中', '央', '领', '导', '集', '体', '的', '重', '要', '成', '员', '。', '[SEP]', '[PAD]', '[PAD]', '[PAD]', '[PAD]', '[PAD]', '[PAD]', '[PAD]', '[PAD]', '[PAD]', '[PAD]', '[PAD]', '[PAD]', '[PAD]', '[PAD]', '[PAD]', '[PAD]', '[PAD]', '[PAD]', '[PAD]', '[PAD]', '[PAD]', '[PAD]', '[PAD]', '[PAD]', '[PAD]', '[PAD]', '[PAD]', '[PAD]', '[PAD]', '[PAD]', '[PAD]', '[PAD]', '[PAD]', '[PAD]', '[PAD]', '[PAD]', '[PAD]', '[PAD]', '[PAD]', '[PAD]', '[PAD]', '[PAD]', '[PAD]', '[PAD]', '[PAD]', '[PAD]', '[PAD]', '[PAD]', '[PAD]', '[PAD]', '[PAD]', '[PAD]', '[PAD]', '[PAD]', '[PAD]', '[PAD]', '[PAD]', '[PAD]', '[PAD]', '[PAD]', '[PAD]', '[PAD]', '[PAD]', '[PAD]', '[PAD]', '[PAD]', '[PAD]', '[PAD]', '[PAD]', '[PAD]', '[PAD]', '[PAD]', '[PAD]', '[PAD]', '[PAD]', '[PAD]', '[PAD]', '[PAD]', '[PAD]', '[PAD]', '[PAD]', '[PAD]', '[PAD]', '[PAD]', '[PAD]', '[PAD]', '[PAD]', '[PAD]', '[PAD]', '[PAD]', '[PAD]', '[PAD]', '[PAD]', '[PAD]', '[PAD]', '[PAD]', '[PAD]', '[PAD]', '[PAD]', '[PAD]', '[PAD]', '[PAD]', '[PAD]', '[PAD]', '[PAD]', '[PAD]', '[PAD]', '[PAD]', '[PAD]', '[PAD]', '[PAD]', '[PAD]', '[PAD]', '[PAD]', '[PAD]', '[PAD]', '[PAD]', '[PAD]', '[PAD]', '[PAD]', '[PAD]', '[PAD]', '[PAD]', '[PAD]', '[PAD]', '[PAD]', '[PAD]', '[PAD]', '[PAD]', '[PAD]', '[PAD]', '[PAD]', '[PAD]', '[PAD]', '[PAD]', '[PAD]', '[PAD]', '[PAD]', '[PAD]', '[PAD]', '[PAD]', '[PAD]', '[PAD]', '[PAD]', '[PAD]', '[PAD]', '[PAD]', '[PAD]', '[PAD]', '[PAD]', '[PAD]', '[PAD]', '[PAD]', '[PAD]', '[PAD]', '[PAD]', '[PAD]', '[PAD]', '[PAD]', '[PAD]', '[PAD]', '[PAD]', '[PAD]', '[PAD]', '[PAD]', '[PAD]', '[PAD]', '[PAD]', '[PAD]', '[PAD]', '[PAD]', '[PAD]', '[PAD]', '[PAD]', '[PAD]', '[PAD]', '[PAD]', '[PAD]', '[PAD]', '[PAD]', '[PAD]', '[PAD]', '[PAD]', '[PAD]', '[PAD]', '[PAD]', '[PAD]', '[PAD]', '[PAD]', '[PAD]', '[PAD]', '[PAD]', '[PAD]', '[PAD]', '[PAD]', '[PAD]', '[PAD]', '[PAD]', '[PAD]', '[PAD]', '[PAD]', '[PAD]', '[PAD]', '[PAD]', '[PAD]', '[PAD]', '[PAD]', '[PAD]', '[PAD]', '[PAD]', '[PAD]', '[PAD]', '[PAD]', '[PAD]', '[PAD]', '[PAD]', '[PAD]', '[PAD]', '[PAD]', '[PAD]', '[PAD]', '[PAD]', '[PAD]', '[PAD]', '[PAD]', '[PAD]', '[PAD]', '[PAD]', '[PAD]', '[PAD]', '[PAD]', '[PAD]', '[PAD]', '[PAD]', '[PAD]', '[PAD]', '[PAD]', '[PAD]', '[PAD]', '[PAD]', '[PAD]', '[PAD]', '[PAD]', '[PAD]', '[PAD]', '[PAD]', '[PAD]', '[PAD]', '[PAD]', '[PAD]', '[PAD]', '[PAD]', '[PAD]', '[PAD]', '[PAD]', '[PAD]', '[PAD]', '[PAD]', '[PAD]', '[PAD]', '[PAD]', '[PAD]', '[PAD]', '[PAD]', '[PAD]', '[PAD]', '[PAD]', '[PAD]', '[PAD]', '[PAD]', '[PAD]', '[PAD]', '[PAD]', '[PAD]', '[PAD]', '[PAD]', '[PAD]', '[PAD]', '[PAD]', '[PAD]', '[PAD]', '[PAD]', '[PAD]', '[PAD]', '[PAD]', '[PAD]', '[PAD]', '[PAD]', '[PAD]', '[PAD]', '[PAD]', '[PAD]', '[PAD]', '[PAD]', '[PAD]', '[PAD]', '[PAD]', '[PAD]', '[PAD]', '[PAD]', '[PAD]', '[PAD]', '[PAD]', '[PAD]', '[PAD]', '[PAD]', '[PAD]', '[PAD]', '[PAD]', '[PAD]', '[PAD]', '[PAD]', '[PAD]', '[PAD]', '[PAD]', '[PAD]', '[PAD]', '[PAD]', '[PAD]', '[PAD]', '[PAD]', '[PAD]', '[PAD]', '[PAD]', '[PAD]', '[PAD]', '[SEP]'] [CLS] 周 恩 来 （ 1 8 9 8 年 3 月 5 日 - 1 9 7 6 年 1 月 8 日 ） ， 字 翔 宇 ， 曾 用 名 飞 飞 、 伍 豪 、 少 山 、 冠 生 等 ， 原 籍 浙 江 绍 兴 ， 1 8 9 8 年 3 月 5 日 生 于 [MASK] [MASK] [MASK] [MASK] 。 1 9 2 1 年 加 入 中 国 共 产 党 ， 是 伟 大 的 马 克 思 主 义 者 ， 伟 大 的 无 产 阶 级 革 命 家 、 政 治 家 、 军 事 家 、 外 交 家 ， 党 和 国 家 主 要 领 导 人 之 一 ， 中 国 人 民 解 放 军 主 要 创 建 人 之 一 ， 中 华 人 民 共 和 国 的 开 国 元 勋 ， 是 以 毛 泽 东 同 志 为 核 心 的 党 的 第 一 代 中 央 领 导 集 体 的 重 要 成 员 。 [SEP] [PAD] [PAD] [PAD] [PAD] [PAD] [PAD] [PAD] [PAD] [PAD] [PAD] [PAD] [PAD] [PAD] [PAD] [PAD] [PAD] [PAD] [PAD] [PAD] [PAD] [PAD] [PAD] [PAD] [PAD] [PAD] [PAD] [PAD] [PAD] [PAD] [PAD] [PAD] [PAD] [PAD] [PAD] [PAD] [PAD] [PAD] [PAD] [PAD] [PAD] [PAD] [PAD] [PAD] [PAD] [PAD] [PAD] [PAD] [PAD] [PAD] [PAD] [PAD] [PAD] [PAD] [PAD] [PAD] [PAD] [PAD] [PAD] [PAD] [PAD] [PAD] [PAD] [PAD] [PAD] [PAD] [PAD] [PAD] [PAD] [PAD] [PAD] [PAD] [PAD] [PAD] [PAD] [PAD] [PAD] [PAD] [PAD] [PAD] [PAD] [PAD] [PAD] [PAD] [PAD] [PAD] [PAD] [PAD] [PAD] [PAD] [PAD] [PAD] [PAD] [PAD] [PAD] [PAD] [PAD] [PAD] [PAD] [PAD] [PAD] [PAD] [PAD] [PAD] [PAD] [PAD] [PAD] [PAD] [PAD] [PAD] [PAD] [PAD] [PAD] [PAD] [PAD] [PAD] [PAD] [PAD] [PAD] [PAD] [PAD] [PAD] [PAD] [PAD] [PAD] [PAD] [PAD] [PAD] [PAD] [PAD] [PAD] [PAD] [PAD] [PAD] [PAD] [PAD] [PAD] [PAD] [PAD] [PAD] [PAD] [PAD] [PAD] [PAD] [PAD] [PAD] [PAD] [PAD] [PAD] [PAD] [PAD] [PAD] [PAD] [PAD] [PAD] [PAD] [PAD] [PAD] [PAD] [PAD] [PAD] [PAD] [PAD] [PAD] [PAD] [PAD] [PAD] [PAD] [PAD] [PAD] [PAD] [PAD] [PAD] [PAD] [PAD] [PAD] [PAD] [PAD] [PAD] [PAD] [PAD] [PAD] [PAD] [PAD] [PAD] [PAD] [PAD] [PAD] [PAD] [PAD] [PAD] [PAD] [PAD] [PAD] [PAD] [PAD] [PAD] [PAD] [PAD] [PAD] [PAD] [PAD] [PAD] [PAD] [PAD] [PAD] [PAD] [PAD] [PAD] [PAD] [PAD] [PAD] [PAD] [PAD] [PAD] [PAD] [PAD] [PAD] [PAD] [PAD] [PAD] [PAD] [PAD] [PAD] [PAD] [PAD] [PAD] [PAD] [PAD] [PAD] [PAD] [PAD] [PAD] [PAD] [PAD] [PAD] [PAD] [PAD] [PAD] [PAD] [PAD] [PAD] [PAD] [PAD] [PAD] [PAD] [PAD] [PAD] [PAD] [PAD] [PAD] [PAD] [PAD] [PAD] [PAD] [PAD] [PAD] [PAD] [PAD] [PAD] [PAD] [PAD] [PAD] [PAD] [PAD] [PAD] [PAD] [PAD] [PAD] [PAD] [PAD] [PAD] [PAD] [PAD] [PAD] [PAD] [PAD] [PAD] [PAD] [PAD] [PAD] [PAD] [PAD] [PAD] [PAD] [PAD] [PAD] [PAD] [PAD] [PAD] [PAD] [PAD] [PAD] [PAD] [PAD] [PAD] [PAD] [PAD] [PAD] [PAD] [PAD] [PAD] [PAD] [PAD] [PAD] [PAD] [PAD] [PAD] [PAD] [PAD] [PAD] [PAD] [PAD] [PAD] [PAD] [PAD] [PAD] [PAD] [PAD] [PAD] [PAD] [PAD] [PAD] [PAD] [PAD] [PAD] [PAD] [SEP]\n",
      "['[CLS]', '周', '恩', '来', '（', '1', '8', '9', '8', '年', '3', '月', '5', '日', '-', '1', '9', '7', '6', '年', '1', '月', '8', '日', '）', '，', '字', '翔', '宇', '，', '曾', '用', '名', '飞', '飞', '、', '伍', '豪', '、', '少', '山', '、', '冠', '生', '等', '，', '原', '籍', '浙', '江', '绍', '兴', '，', '1', '8', '9', '8', '年', '3', '月', '5', '日', '生', '于', '江', '苏', '淮', '安', '。', '1', '9', '2', '1', '年', '加', '入', '中', '国', '[MASK]', '[MASK]', '[MASK]', '，', '是', '伟', '大', '的', '马', '克', '思', '主', '义', '者', '，', '伟', '大', '的', '无', '产', '阶', '级', '革', '命', '家', '、', '政', '治', '家', '、', '军', '事', '家', '、', '外', '交', '家', '，', '党', '和', '国', '家', '主', '要', '领', '导', '人', '之', '一', '，', '中', '国', '人', '民', '解', '放', '军', '主', '要', '创', '建', '人', '之', '一', '，', '中', '华', '人', '民', '共', '和', '国', '的', '开', '国', '元', '勋', '，', '是', '以', '毛', '泽', '东', '同', '志', '为', '核', '心', '的', '党', '的', '第', '一', '代', '中', '央', '领', '导', '集', '体', '的', '重', '要', '成', '员', '。', '[SEP]', '[PAD]', '[PAD]', '[PAD]', '[PAD]', '[PAD]', '[PAD]', '[PAD]', '[PAD]', '[PAD]', '[PAD]', '[PAD]', '[PAD]', '[PAD]', '[PAD]', '[PAD]', '[PAD]', '[PAD]', '[PAD]', '[PAD]', '[PAD]', '[PAD]', '[PAD]', '[PAD]', '[PAD]', '[PAD]', '[PAD]', '[PAD]', '[PAD]', '[PAD]', '[PAD]', '[PAD]', '[PAD]', '[PAD]', '[PAD]', '[PAD]', '[PAD]', '[PAD]', '[PAD]', '[PAD]', '[PAD]', '[PAD]', '[PAD]', '[PAD]', '[PAD]', '[PAD]', '[PAD]', '[PAD]', '[PAD]', '[PAD]', '[PAD]', '[PAD]', '[PAD]', '[PAD]', '[PAD]', '[PAD]', '[PAD]', '[PAD]', '[PAD]', '[PAD]', '[PAD]', '[PAD]', '[PAD]', '[PAD]', '[PAD]', '[PAD]', '[PAD]', '[PAD]', '[PAD]', '[PAD]', '[PAD]', '[PAD]', '[PAD]', '[PAD]', '[PAD]', '[PAD]', '[PAD]', '[PAD]', '[PAD]', '[PAD]', '[PAD]', '[PAD]', '[PAD]', '[PAD]', '[PAD]', '[PAD]', '[PAD]', '[PAD]', '[PAD]', '[PAD]', '[PAD]', '[PAD]', '[PAD]', '[PAD]', '[PAD]', '[PAD]', '[PAD]', '[PAD]', '[PAD]', '[PAD]', '[PAD]', '[PAD]', '[PAD]', '[PAD]', '[PAD]', '[PAD]', '[PAD]', '[PAD]', '[PAD]', '[PAD]', '[PAD]', '[PAD]', '[PAD]', '[PAD]', '[PAD]', '[PAD]', '[PAD]', '[PAD]', '[PAD]', '[PAD]', '[PAD]', '[PAD]', '[PAD]', '[PAD]', '[PAD]', '[PAD]', '[PAD]', '[PAD]', '[PAD]', '[PAD]', '[PAD]', '[PAD]', '[PAD]', '[PAD]', '[PAD]', '[PAD]', '[PAD]', '[PAD]', '[PAD]', '[PAD]', '[PAD]', '[PAD]', '[PAD]', '[PAD]', '[PAD]', '[PAD]', '[PAD]', '[PAD]', '[PAD]', '[PAD]', '[PAD]', '[PAD]', '[PAD]', '[PAD]', '[PAD]', '[PAD]', '[PAD]', '[PAD]', '[PAD]', '[PAD]', '[PAD]', '[PAD]', '[PAD]', '[PAD]', '[PAD]', '[PAD]', '[PAD]', '[PAD]', '[PAD]', '[PAD]', '[PAD]', '[PAD]', '[PAD]', '[PAD]', '[PAD]', '[PAD]', '[PAD]', '[PAD]', '[PAD]', '[PAD]', '[PAD]', '[PAD]', '[PAD]', '[PAD]', '[PAD]', '[PAD]', '[PAD]', '[PAD]', '[PAD]', '[PAD]', '[PAD]', '[PAD]', '[PAD]', '[PAD]', '[PAD]', '[PAD]', '[PAD]', '[PAD]', '[PAD]', '[PAD]', '[PAD]', '[PAD]', '[PAD]', '[PAD]', '[PAD]', '[PAD]', '[PAD]', '[PAD]', '[PAD]', '[PAD]', '[PAD]', '[PAD]', '[PAD]', '[PAD]', '[PAD]', '[PAD]', '[PAD]', '[PAD]', '[PAD]', '[PAD]', '[PAD]', '[PAD]', '[PAD]', '[PAD]', '[PAD]', '[PAD]', '[PAD]', '[PAD]', '[PAD]', '[PAD]', '[PAD]', '[PAD]', '[PAD]', '[PAD]', '[PAD]', '[PAD]', '[PAD]', '[PAD]', '[PAD]', '[PAD]', '[PAD]', '[PAD]', '[PAD]', '[PAD]', '[PAD]', '[PAD]', '[PAD]', '[PAD]', '[PAD]', '[PAD]', '[PAD]', '[PAD]', '[PAD]', '[PAD]', '[PAD]', '[PAD]', '[PAD]', '[PAD]', '[PAD]', '[PAD]', '[PAD]', '[PAD]', '[PAD]', '[PAD]', '[PAD]', '[PAD]', '[PAD]', '[PAD]', '[PAD]', '[PAD]', '[PAD]', '[PAD]', '[PAD]', '[PAD]', '[PAD]', '[PAD]', '[PAD]', '[PAD]', '[PAD]', '[PAD]', '[PAD]', '[PAD]', '[PAD]', '[PAD]', '[PAD]', '[PAD]', '[PAD]', '[PAD]', '[PAD]', '[PAD]', '[PAD]', '[PAD]', '[PAD]', '[PAD]', '[PAD]', '[PAD]', '[PAD]', '[PAD]', '[PAD]', '[PAD]', '[PAD]', '[PAD]', '[PAD]', '[PAD]', '[PAD]', '[PAD]', '[PAD]', '[PAD]', '[PAD]', '[PAD]', '[PAD]', '[PAD]', '[PAD]', '[PAD]', '[PAD]', '[PAD]', '[PAD]', '[PAD]', '[PAD]', '[PAD]', '[PAD]', '[PAD]', '[PAD]', '[PAD]', '[PAD]', '[PAD]', '[PAD]', '[SEP]'] [CLS] 周 恩 来 （ 1 8 9 8 年 3 月 5 日 - 1 9 7 6 年 1 月 8 日 ） ， 字 翔 宇 ， 曾 用 名 飞 飞 、 伍 豪 、 少 山 、 冠 生 等 ， 原 籍 浙 江 绍 兴 ， 1 8 9 8 年 3 月 5 日 生 于 江 苏 淮 安 。 1 9 2 1 年 加 入 中 国 [MASK] [MASK] [MASK] ， 是 伟 大 的 马 克 思 主 义 者 ， 伟 大 的 无 产 阶 级 革 命 家 、 政 治 家 、 军 事 家 、 外 交 家 ， 党 和 国 家 主 要 领 导 人 之 一 ， 中 国 人 民 解 放 军 主 要 创 建 人 之 一 ， 中 华 人 民 共 和 国 的 开 国 元 勋 ， 是 以 毛 泽 东 同 志 为 核 心 的 党 的 第 一 代 中 央 领 导 集 体 的 重 要 成 员 。 [SEP] [PAD] [PAD] [PAD] [PAD] [PAD] [PAD] [PAD] [PAD] [PAD] [PAD] [PAD] [PAD] [PAD] [PAD] [PAD] [PAD] [PAD] [PAD] [PAD] [PAD] [PAD] [PAD] [PAD] [PAD] [PAD] [PAD] [PAD] [PAD] [PAD] [PAD] [PAD] [PAD] [PAD] [PAD] [PAD] [PAD] [PAD] [PAD] [PAD] [PAD] [PAD] [PAD] [PAD] [PAD] [PAD] [PAD] [PAD] [PAD] [PAD] [PAD] [PAD] [PAD] [PAD] [PAD] [PAD] [PAD] [PAD] [PAD] [PAD] [PAD] [PAD] [PAD] [PAD] [PAD] [PAD] [PAD] [PAD] [PAD] [PAD] [PAD] [PAD] [PAD] [PAD] [PAD] [PAD] [PAD] [PAD] [PAD] [PAD] [PAD] [PAD] [PAD] [PAD] [PAD] [PAD] [PAD] [PAD] [PAD] [PAD] [PAD] [PAD] [PAD] [PAD] [PAD] [PAD] [PAD] [PAD] [PAD] [PAD] [PAD] [PAD] [PAD] [PAD] [PAD] [PAD] [PAD] [PAD] [PAD] [PAD] [PAD] [PAD] [PAD] [PAD] [PAD] [PAD] [PAD] [PAD] [PAD] [PAD] [PAD] [PAD] [PAD] [PAD] [PAD] [PAD] [PAD] [PAD] [PAD] [PAD] [PAD] [PAD] [PAD] [PAD] [PAD] [PAD] [PAD] [PAD] [PAD] [PAD] [PAD] [PAD] [PAD] [PAD] [PAD] [PAD] [PAD] [PAD] [PAD] [PAD] [PAD] [PAD] [PAD] [PAD] [PAD] [PAD] [PAD] [PAD] [PAD] [PAD] [PAD] [PAD] [PAD] [PAD] [PAD] [PAD] [PAD] [PAD] [PAD] [PAD] [PAD] [PAD] [PAD] [PAD] [PAD] [PAD] [PAD] [PAD] [PAD] [PAD] [PAD] [PAD] [PAD] [PAD] [PAD] [PAD] [PAD] [PAD] [PAD] [PAD] [PAD] [PAD] [PAD] [PAD] [PAD] [PAD] [PAD] [PAD] [PAD] [PAD] [PAD] [PAD] [PAD] [PAD] [PAD] [PAD] [PAD] [PAD] [PAD] [PAD] [PAD] [PAD] [PAD] [PAD] [PAD] [PAD] [PAD] [PAD] [PAD] [PAD] [PAD] [PAD] [PAD] [PAD] [PAD] [PAD] [PAD] [PAD] [PAD] [PAD] [PAD] [PAD] [PAD] [PAD] [PAD] [PAD] [PAD] [PAD] [PAD] [PAD] [PAD] [PAD] [PAD] [PAD] [PAD] [PAD] [PAD] [PAD] [PAD] [PAD] [PAD] [PAD] [PAD] [PAD] [PAD] [PAD] [PAD] [PAD] [PAD] [PAD] [PAD] [PAD] [PAD] [PAD] [PAD] [PAD] [PAD] [PAD] [PAD] [PAD] [PAD] [PAD] [PAD] [PAD] [PAD] [PAD] [PAD] [PAD] [PAD] [PAD] [PAD] [PAD] [PAD] [PAD] [PAD] [PAD] [PAD] [PAD] [PAD] [PAD] [PAD] [PAD] [PAD] [PAD] [PAD] [PAD] [PAD] [PAD] [PAD] [PAD] [PAD] [PAD] [PAD] [PAD] [PAD] [PAD] [PAD] [PAD] [PAD] [PAD] [PAD] [PAD] [PAD] [PAD] [PAD] [PAD] [PAD] [PAD] [PAD] [PAD] [PAD] [PAD] [PAD] [PAD] [PAD] [PAD] [PAD] [SEP]\n",
      "['[CLS]', '[MASK]', '[MASK]', '[MASK]', '（', '1', '9', '0', '4', '年', '2', '月', '4', '日', '-', '1', '9', '9', '2', '年', '7', '月', '1', '1', '日', '）', '，', '河', '南', '省', '光', '山', '人', '，', '生', '于', '广', '西', '南', '宁', '，', '1', '9', '2', '4', '年', '加', '入', '中', '国', '社', '会', '主', '义', '青', '年', '团', '，', '1', '9', '2', '5', '年', '3', '月', '，', '加', '入', '中', '国', '共', '产', '党', '。', '伟', '大', '的', '无', '产', '阶', '级', '革', '命', '家', '、', '政', '治', '家', '，', '著', '名', '社', '会', '活', '动', '家', '，', '坚', '定', '的', '马', '克', '思', '主', '义', '者', '，', '党', '和', '国', '家', '的', '卓', '越', '领', '导', '人', '，', '中', '国', '妇', '女', '运', '动', '的', '先', '驱', '。', '[SEP]', '[PAD]', '[PAD]', '[PAD]', '[PAD]', '[PAD]', '[PAD]', '[PAD]', '[PAD]', '[PAD]', '[PAD]', '[PAD]', '[PAD]', '[PAD]', '[PAD]', '[PAD]', '[PAD]', '[PAD]', '[PAD]', '[PAD]', '[PAD]', '[PAD]', '[PAD]', '[PAD]', '[PAD]', '[PAD]', '[PAD]', '[PAD]', '[PAD]', '[PAD]', '[PAD]', '[PAD]', '[PAD]', '[PAD]', '[PAD]', '[PAD]', '[PAD]', '[PAD]', '[PAD]', '[PAD]', '[PAD]', '[PAD]', '[PAD]', '[PAD]', '[PAD]', '[PAD]', '[PAD]', '[PAD]', '[PAD]', '[PAD]', '[PAD]', '[PAD]', '[PAD]', '[PAD]', '[PAD]', '[PAD]', '[PAD]', '[PAD]', '[PAD]', '[PAD]', '[PAD]', '[PAD]', '[PAD]', '[PAD]', '[PAD]', '[PAD]', '[PAD]', '[PAD]', '[PAD]', '[PAD]', '[PAD]', '[PAD]', '[PAD]', '[PAD]', '[PAD]', '[PAD]', '[PAD]', '[PAD]', '[PAD]', '[PAD]', '[PAD]', '[PAD]', '[PAD]', '[PAD]', '[PAD]', '[PAD]', '[PAD]', '[PAD]', '[PAD]', '[PAD]', '[PAD]', '[PAD]', '[PAD]', '[PAD]', '[PAD]', '[PAD]', '[PAD]', '[PAD]', '[PAD]', '[PAD]', '[PAD]', '[PAD]', '[PAD]', '[PAD]', '[PAD]', '[PAD]', '[PAD]', '[PAD]', '[PAD]', '[PAD]', '[PAD]', '[PAD]', '[PAD]', '[PAD]', '[PAD]', '[PAD]', '[PAD]', '[PAD]', '[PAD]', '[PAD]', '[PAD]', '[PAD]', '[PAD]', '[PAD]', '[PAD]', '[PAD]', '[PAD]', '[PAD]', '[PAD]', '[PAD]', '[PAD]', '[PAD]', '[PAD]', '[PAD]', '[PAD]', '[PAD]', '[PAD]', '[PAD]', '[PAD]', '[PAD]', '[PAD]', '[PAD]', '[PAD]', '[PAD]', '[PAD]', '[PAD]', '[PAD]', '[PAD]', '[PAD]', '[PAD]', '[PAD]', '[PAD]', '[PAD]', '[PAD]', '[PAD]', '[PAD]', '[PAD]', '[PAD]', '[PAD]', '[PAD]', '[PAD]', '[PAD]', '[PAD]', '[PAD]', '[PAD]', '[PAD]', '[PAD]', '[PAD]', '[PAD]', '[PAD]', '[PAD]', '[PAD]', '[PAD]', '[PAD]', '[PAD]', '[PAD]', '[PAD]', '[PAD]', '[PAD]', '[PAD]', '[PAD]', '[PAD]', '[PAD]', '[PAD]', '[PAD]', '[PAD]', '[PAD]', '[PAD]', '[PAD]', '[PAD]', '[PAD]', '[PAD]', '[PAD]', '[PAD]', '[PAD]', '[PAD]', '[PAD]', '[PAD]', '[PAD]', '[PAD]', '[PAD]', '[PAD]', '[PAD]', '[PAD]', '[PAD]', '[PAD]', '[PAD]', '[PAD]', '[PAD]', '[PAD]', '[PAD]', '[PAD]', '[PAD]', '[PAD]', '[PAD]', '[PAD]', '[PAD]', '[PAD]', '[PAD]', '[PAD]', '[PAD]', '[PAD]', '[PAD]', '[PAD]', '[PAD]', '[PAD]', '[PAD]', '[PAD]', '[PAD]', '[PAD]', '[PAD]', '[PAD]', '[PAD]', '[PAD]', '[PAD]', '[PAD]', '[PAD]', '[PAD]', '[PAD]', '[PAD]', '[PAD]', '[PAD]', '[PAD]', '[PAD]', '[PAD]', '[PAD]', '[PAD]', '[PAD]', '[PAD]', '[PAD]', '[PAD]', '[PAD]', '[PAD]', '[PAD]', '[PAD]', '[PAD]', '[PAD]', '[PAD]', '[PAD]', '[PAD]', '[PAD]', '[PAD]', '[PAD]', '[PAD]', '[PAD]', '[PAD]', '[PAD]', '[PAD]', '[PAD]', '[PAD]', '[PAD]', '[PAD]', '[PAD]', '[PAD]', '[PAD]', '[PAD]', '[PAD]', '[PAD]', '[PAD]', '[PAD]', '[PAD]', '[PAD]', '[PAD]', '[PAD]', '[PAD]', '[PAD]', '[PAD]', '[PAD]', '[PAD]', '[PAD]', '[PAD]', '[PAD]', '[PAD]', '[PAD]', '[PAD]', '[PAD]', '[PAD]', '[PAD]', '[PAD]', '[PAD]', '[PAD]', '[PAD]', '[PAD]', '[PAD]', '[PAD]', '[PAD]', '[PAD]', '[PAD]', '[PAD]', '[PAD]', '[PAD]', '[PAD]', '[PAD]', '[PAD]', '[PAD]', '[PAD]', '[PAD]', '[PAD]', '[PAD]', '[PAD]', '[PAD]', '[PAD]', '[PAD]', '[PAD]', '[PAD]', '[PAD]', '[PAD]', '[PAD]', '[PAD]', '[PAD]', '[PAD]', '[PAD]', '[PAD]', '[PAD]', '[PAD]', '[PAD]', '[PAD]', '[PAD]', '[PAD]', '[PAD]', '[PAD]', '[PAD]', '[PAD]', '[PAD]', '[PAD]', '[PAD]', '[PAD]', '[PAD]', '[PAD]', '[PAD]', '[PAD]', '[PAD]', '[PAD]', '[PAD]', '[PAD]', '[PAD]', '[PAD]', '[PAD]', '[PAD]', '[PAD]', '[PAD]', '[PAD]', '[PAD]', '[PAD]', '[PAD]', '[PAD]', '[PAD]', '[PAD]', '[PAD]', '[PAD]', '[PAD]', '[PAD]', '[PAD]', '[PAD]', '[PAD]', '[PAD]', '[PAD]', '[PAD]', '[PAD]', '[PAD]', '[PAD]', '[PAD]', '[PAD]', '[SEP]'] [CLS] [MASK] [MASK] [MASK] （ 1 9 0 4 年 2 月 4 日 - 1 9 9 2 年 7 月 1 1 日 ） ， 河 南 省 光 山 人 ， 生 于 广 西 南 宁 ， 1 9 2 4 年 加 入 中 国 社 会 主 义 青 年 团 ， 1 9 2 5 年 3 月 ， 加 入 中 国 共 产 党 。 伟 大 的 无 产 阶 级 革 命 家 、 政 治 家 ， 著 名 社 会 活 动 家 ， 坚 定 的 马 克 思 主 义 者 ， 党 和 国 家 的 卓 越 领 导 人 ， 中 国 妇 女 运 动 的 先 驱 。 [SEP] [PAD] [PAD] [PAD] [PAD] [PAD] [PAD] [PAD] [PAD] [PAD] [PAD] [PAD] [PAD] [PAD] [PAD] [PAD] [PAD] [PAD] [PAD] [PAD] [PAD] [PAD] [PAD] [PAD] [PAD] [PAD] [PAD] [PAD] [PAD] [PAD] [PAD] [PAD] [PAD] [PAD] [PAD] [PAD] [PAD] [PAD] [PAD] [PAD] [PAD] [PAD] [PAD] [PAD] [PAD] [PAD] [PAD] [PAD] [PAD] [PAD] [PAD] [PAD] [PAD] [PAD] [PAD] [PAD] [PAD] [PAD] [PAD] [PAD] [PAD] [PAD] [PAD] [PAD] [PAD] [PAD] [PAD] [PAD] [PAD] [PAD] [PAD] [PAD] [PAD] [PAD] [PAD] [PAD] [PAD] [PAD] [PAD] [PAD] [PAD] [PAD] [PAD] [PAD] [PAD] [PAD] [PAD] [PAD] [PAD] [PAD] [PAD] [PAD] [PAD] [PAD] [PAD] [PAD] [PAD] [PAD] [PAD] [PAD] [PAD] [PAD] [PAD] [PAD] [PAD] [PAD] [PAD] [PAD] [PAD] [PAD] [PAD] [PAD] [PAD] [PAD] [PAD] [PAD] [PAD] [PAD] [PAD] [PAD] [PAD] [PAD] [PAD] [PAD] [PAD] [PAD] [PAD] [PAD] [PAD] [PAD] [PAD] [PAD] [PAD] [PAD] [PAD] [PAD] [PAD] [PAD] [PAD] [PAD] [PAD] [PAD] [PAD] [PAD] [PAD] [PAD] [PAD] [PAD] [PAD] [PAD] [PAD] [PAD] [PAD] [PAD] [PAD] [PAD] [PAD] [PAD] [PAD] [PAD] [PAD] [PAD] [PAD] [PAD] [PAD] [PAD] [PAD] [PAD] [PAD] [PAD] [PAD] [PAD] [PAD] [PAD] [PAD] [PAD] [PAD] [PAD] [PAD] [PAD] [PAD] [PAD] [PAD] [PAD] [PAD] [PAD] [PAD] [PAD] [PAD] [PAD] [PAD] [PAD] [PAD] [PAD] [PAD] [PAD] [PAD] [PAD] [PAD] [PAD] [PAD] [PAD] [PAD] [PAD] [PAD] [PAD] [PAD] [PAD] [PAD] [PAD] [PAD] [PAD] [PAD] [PAD] [PAD] [PAD] [PAD] [PAD] [PAD] [PAD] [PAD] [PAD] [PAD] [PAD] [PAD] [PAD] [PAD] [PAD] [PAD] [PAD] [PAD] [PAD] [PAD] [PAD] [PAD] [PAD] [PAD] [PAD] [PAD] [PAD] [PAD] [PAD] [PAD] [PAD] [PAD] [PAD] [PAD] [PAD] [PAD] [PAD] [PAD] [PAD] [PAD] [PAD] [PAD] [PAD] [PAD] [PAD] [PAD] [PAD] [PAD] [PAD] [PAD] [PAD] [PAD] [PAD] [PAD] [PAD] [PAD] [PAD] [PAD] [PAD] [PAD] [PAD] [PAD] [PAD] [PAD] [PAD] [PAD] [PAD] [PAD] [PAD] [PAD] [PAD] [PAD] [PAD] [PAD] [PAD] [PAD] [PAD] [PAD] [PAD] [PAD] [PAD] [PAD] [PAD] [PAD] [PAD] [PAD] [PAD] [PAD] [PAD] [PAD] [PAD] [PAD] [PAD] [PAD] [PAD] [PAD] [PAD] [PAD] [PAD] [PAD] [PAD] [PAD] [PAD] [PAD] [PAD] [PAD] [PAD] [PAD] [PAD] [PAD] [PAD] [PAD] [PAD] [PAD] [PAD] [PAD] [PAD] [PAD] [PAD] [PAD] [PAD] [PAD] [PAD] [PAD] [PAD] [PAD] [PAD] [PAD] [PAD] [PAD] [PAD] [PAD] [PAD] [PAD] [PAD] [PAD] [PAD] [PAD] [PAD] [PAD] [PAD] [PAD] [PAD] [PAD] [PAD] [PAD] [PAD] [PAD] [PAD] [PAD] [PAD] [PAD] [PAD] [PAD] [PAD] [PAD] [PAD] [PAD] [PAD] [PAD] [PAD] [PAD] [PAD] [PAD] [PAD] [PAD] [PAD] [PAD] [PAD] [PAD] [SEP]\n",
      "['[CLS]', '邓', '颖', '超', '（', '1', '9', '0', '4', '年', '2', '月', '4', '日', '-', '1', '9', '9', '2', '年', '7', '月', '1', '1', '日', '）', '，', '河', '南', '省', '光', '山', '人', '，', '生', '于', '[MASK]', '[MASK]', '[MASK]', '[MASK]', '，', '1', '9', '2', '4', '年', '加', '入', '中', '国', '社', '会', '主', '义', '青', '年', '团', '，', '1', '9', '2', '5', '年', '3', '月', '，', '加', '入', '中', '国', '共', '产', '党', '。', '伟', '大', '的', '无', '产', '阶', '级', '革', '命', '家', '、', '政', '治', '家', '，', '著', '名', '社', '会', '活', '动', '家', '，', '坚', '定', '的', '马', '克', '思', '主', '义', '者', '，', '党', '和', '国', '家', '的', '卓', '越', '领', '导', '人', '，', '中', '国', '妇', '女', '运', '动', '的', '先', '驱', '。', '[SEP]', '[PAD]', '[PAD]', '[PAD]', '[PAD]', '[PAD]', '[PAD]', '[PAD]', '[PAD]', '[PAD]', '[PAD]', '[PAD]', '[PAD]', '[PAD]', '[PAD]', '[PAD]', '[PAD]', '[PAD]', '[PAD]', '[PAD]', '[PAD]', '[PAD]', '[PAD]', '[PAD]', '[PAD]', '[PAD]', '[PAD]', '[PAD]', '[PAD]', '[PAD]', '[PAD]', '[PAD]', '[PAD]', '[PAD]', '[PAD]', '[PAD]', '[PAD]', '[PAD]', '[PAD]', '[PAD]', '[PAD]', '[PAD]', '[PAD]', '[PAD]', '[PAD]', '[PAD]', '[PAD]', '[PAD]', '[PAD]', '[PAD]', '[PAD]', '[PAD]', '[PAD]', '[PAD]', '[PAD]', '[PAD]', '[PAD]', '[PAD]', '[PAD]', '[PAD]', '[PAD]', '[PAD]', '[PAD]', '[PAD]', '[PAD]', '[PAD]', '[PAD]', '[PAD]', '[PAD]', '[PAD]', '[PAD]', '[PAD]', '[PAD]', '[PAD]', '[PAD]', '[PAD]', '[PAD]', '[PAD]', '[PAD]', '[PAD]', '[PAD]', '[PAD]', '[PAD]', '[PAD]', '[PAD]', '[PAD]', '[PAD]', '[PAD]', '[PAD]', '[PAD]', '[PAD]', '[PAD]', '[PAD]', '[PAD]', '[PAD]', '[PAD]', '[PAD]', '[PAD]', '[PAD]', '[PAD]', '[PAD]', '[PAD]', '[PAD]', '[PAD]', '[PAD]', '[PAD]', '[PAD]', '[PAD]', '[PAD]', '[PAD]', '[PAD]', '[PAD]', '[PAD]', '[PAD]', '[PAD]', '[PAD]', '[PAD]', '[PAD]', '[PAD]', '[PAD]', '[PAD]', '[PAD]', '[PAD]', '[PAD]', '[PAD]', '[PAD]', '[PAD]', '[PAD]', '[PAD]', '[PAD]', '[PAD]', '[PAD]', '[PAD]', '[PAD]', '[PAD]', '[PAD]', '[PAD]', '[PAD]', '[PAD]', '[PAD]', '[PAD]', '[PAD]', '[PAD]', '[PAD]', '[PAD]', '[PAD]', '[PAD]', '[PAD]', '[PAD]', '[PAD]', '[PAD]', '[PAD]', '[PAD]', '[PAD]', '[PAD]', '[PAD]', '[PAD]', '[PAD]', '[PAD]', '[PAD]', '[PAD]', '[PAD]', '[PAD]', '[PAD]', '[PAD]', '[PAD]', '[PAD]', '[PAD]', '[PAD]', '[PAD]', '[PAD]', '[PAD]', '[PAD]', '[PAD]', '[PAD]', '[PAD]', '[PAD]', '[PAD]', '[PAD]', '[PAD]', '[PAD]', '[PAD]', '[PAD]', '[PAD]', '[PAD]', '[PAD]', '[PAD]', '[PAD]', '[PAD]', '[PAD]', '[PAD]', '[PAD]', '[PAD]', '[PAD]', '[PAD]', '[PAD]', '[PAD]', '[PAD]', '[PAD]', '[PAD]', '[PAD]', '[PAD]', '[PAD]', '[PAD]', '[PAD]', '[PAD]', '[PAD]', '[PAD]', '[PAD]', '[PAD]', '[PAD]', '[PAD]', '[PAD]', '[PAD]', '[PAD]', '[PAD]', '[PAD]', '[PAD]', '[PAD]', '[PAD]', '[PAD]', '[PAD]', '[PAD]', '[PAD]', '[PAD]', '[PAD]', '[PAD]', '[PAD]', '[PAD]', '[PAD]', '[PAD]', '[PAD]', '[PAD]', '[PAD]', '[PAD]', '[PAD]', '[PAD]', '[PAD]', '[PAD]', '[PAD]', '[PAD]', '[PAD]', '[PAD]', '[PAD]', '[PAD]', '[PAD]', '[PAD]', '[PAD]', '[PAD]', '[PAD]', '[PAD]', '[PAD]', '[PAD]', '[PAD]', '[PAD]', '[PAD]', '[PAD]', '[PAD]', '[PAD]', '[PAD]', '[PAD]', '[PAD]', '[PAD]', '[PAD]', '[PAD]', '[PAD]', '[PAD]', '[PAD]', '[PAD]', '[PAD]', '[PAD]', '[PAD]', '[PAD]', '[PAD]', '[PAD]', '[PAD]', '[PAD]', '[PAD]', '[PAD]', '[PAD]', '[PAD]', '[PAD]', '[PAD]', '[PAD]', '[PAD]', '[PAD]', '[PAD]', '[PAD]', '[PAD]', '[PAD]', '[PAD]', '[PAD]', '[PAD]', '[PAD]', '[PAD]', '[PAD]', '[PAD]', '[PAD]', '[PAD]', '[PAD]', '[PAD]', '[PAD]', '[PAD]', '[PAD]', '[PAD]', '[PAD]', '[PAD]', '[PAD]', '[PAD]', '[PAD]', '[PAD]', '[PAD]', '[PAD]', '[PAD]', '[PAD]', '[PAD]', '[PAD]', '[PAD]', '[PAD]', '[PAD]', '[PAD]', '[PAD]', '[PAD]', '[PAD]', '[PAD]', '[PAD]', '[PAD]', '[PAD]', '[PAD]', '[PAD]', '[PAD]', '[PAD]', '[PAD]', '[PAD]', '[PAD]', '[PAD]', '[PAD]', '[PAD]', '[PAD]', '[PAD]', '[PAD]', '[PAD]', '[PAD]', '[PAD]', '[PAD]', '[PAD]', '[PAD]', '[PAD]', '[PAD]', '[PAD]', '[PAD]', '[PAD]', '[PAD]', '[PAD]', '[PAD]', '[PAD]', '[PAD]', '[PAD]', '[PAD]', '[PAD]', '[PAD]', '[PAD]', '[PAD]', '[PAD]', '[PAD]', '[PAD]', '[PAD]', '[PAD]', '[PAD]', '[PAD]', '[PAD]', '[PAD]', '[PAD]', '[PAD]', '[PAD]', '[PAD]', '[PAD]', '[PAD]', '[PAD]', '[PAD]', '[PAD]', '[PAD]', '[PAD]', '[SEP]'] [CLS] 邓 颖 超 （ 1 9 0 4 年 2 月 4 日 - 1 9 9 2 年 7 月 1 1 日 ） ， 河 南 省 光 山 人 ， 生 于 [MASK] [MASK] [MASK] [MASK] ， 1 9 2 4 年 加 入 中 国 社 会 主 义 青 年 团 ， 1 9 2 5 年 3 月 ， 加 入 中 国 共 产 党 。 伟 大 的 无 产 阶 级 革 命 家 、 政 治 家 ， 著 名 社 会 活 动 家 ， 坚 定 的 马 克 思 主 义 者 ， 党 和 国 家 的 卓 越 领 导 人 ， 中 国 妇 女 运 动 的 先 驱 。 [SEP] [PAD] [PAD] [PAD] [PAD] [PAD] [PAD] [PAD] [PAD] [PAD] [PAD] [PAD] [PAD] [PAD] [PAD] [PAD] [PAD] [PAD] [PAD] [PAD] [PAD] [PAD] [PAD] [PAD] [PAD] [PAD] [PAD] [PAD] [PAD] [PAD] [PAD] [PAD] [PAD] [PAD] [PAD] [PAD] [PAD] [PAD] [PAD] [PAD] [PAD] [PAD] [PAD] [PAD] [PAD] [PAD] [PAD] [PAD] [PAD] [PAD] [PAD] [PAD] [PAD] [PAD] [PAD] [PAD] [PAD] [PAD] [PAD] [PAD] [PAD] [PAD] [PAD] [PAD] [PAD] [PAD] [PAD] [PAD] [PAD] [PAD] [PAD] [PAD] [PAD] [PAD] [PAD] [PAD] [PAD] [PAD] [PAD] [PAD] [PAD] [PAD] [PAD] [PAD] [PAD] [PAD] [PAD] [PAD] [PAD] [PAD] [PAD] [PAD] [PAD] [PAD] [PAD] [PAD] [PAD] [PAD] [PAD] [PAD] [PAD] [PAD] [PAD] [PAD] [PAD] [PAD] [PAD] [PAD] [PAD] [PAD] [PAD] [PAD] [PAD] [PAD] [PAD] [PAD] [PAD] [PAD] [PAD] [PAD] [PAD] [PAD] [PAD] [PAD] [PAD] [PAD] [PAD] [PAD] [PAD] [PAD] [PAD] [PAD] [PAD] [PAD] [PAD] [PAD] [PAD] [PAD] [PAD] [PAD] [PAD] [PAD] [PAD] [PAD] [PAD] [PAD] [PAD] [PAD] [PAD] [PAD] [PAD] [PAD] [PAD] [PAD] [PAD] [PAD] [PAD] [PAD] [PAD] [PAD] [PAD] [PAD] [PAD] [PAD] [PAD] [PAD] [PAD] [PAD] [PAD] [PAD] [PAD] [PAD] [PAD] [PAD] [PAD] [PAD] [PAD] [PAD] [PAD] [PAD] [PAD] [PAD] [PAD] [PAD] [PAD] [PAD] [PAD] [PAD] [PAD] [PAD] [PAD] [PAD] [PAD] [PAD] [PAD] [PAD] [PAD] [PAD] [PAD] [PAD] [PAD] [PAD] [PAD] [PAD] [PAD] [PAD] [PAD] [PAD] [PAD] [PAD] [PAD] [PAD] [PAD] [PAD] [PAD] [PAD] [PAD] [PAD] [PAD] [PAD] [PAD] [PAD] [PAD] [PAD] [PAD] [PAD] [PAD] [PAD] [PAD] [PAD] [PAD] [PAD] [PAD] [PAD] [PAD] [PAD] [PAD] [PAD] [PAD] [PAD] [PAD] [PAD] [PAD] [PAD] [PAD] [PAD] [PAD] [PAD] [PAD] [PAD] [PAD] [PAD] [PAD] [PAD] [PAD] [PAD] [PAD] [PAD] [PAD] [PAD] [PAD] [PAD] [PAD] [PAD] [PAD] [PAD] [PAD] [PAD] [PAD] [PAD] [PAD] [PAD] [PAD] [PAD] [PAD] [PAD] [PAD] [PAD] [PAD] [PAD] [PAD] [PAD] [PAD] [PAD] [PAD] [PAD] [PAD] [PAD] [PAD] [PAD] [PAD] [PAD] [PAD] [PAD] [PAD] [PAD] [PAD] [PAD] [PAD] [PAD] [PAD] [PAD] [PAD] [PAD] [PAD] [PAD] [PAD] [PAD] [PAD] [PAD] [PAD] [PAD] [PAD] [PAD] [PAD] [PAD] [PAD] [PAD] [PAD] [PAD] [PAD] [PAD] [PAD] [PAD] [PAD] [PAD] [PAD] [PAD] [PAD] [PAD] [PAD] [PAD] [PAD] [PAD] [PAD] [PAD] [PAD] [PAD] [PAD] [PAD] [PAD] [PAD] [PAD] [PAD] [PAD] [PAD] [PAD] [PAD] [PAD] [PAD] [PAD] [PAD] [PAD] [PAD] [PAD] [PAD] [PAD] [PAD] [PAD] [PAD] [PAD] [PAD] [PAD] [PAD] [PAD] [PAD] [PAD] [PAD] [PAD] [PAD] [PAD] [PAD] [PAD] [PAD] [PAD] [PAD] [PAD] [PAD] [PAD] [PAD] [PAD] [PAD] [PAD] [SEP]\n",
      "['[CLS]', '邓', '颖', '超', '（', '1', '9', '0', '4', '年', '2', '月', '4', '日', '-', '1', '9', '9', '2', '年', '7', '月', '1', '1', '日', '）', '，', '河', '南', '省', '光', '山', '人', '，', '生', '于', '广', '西', '南', '宁', '，', '1', '9', '2', '4', '年', '加', '入', '中', '国', '社', '会', '主', '义', '青', '年', '团', '，', '1', '9', '2', '5', '年', '3', '月', '，', '加', '入', '中', '国', '[MASK]', '[MASK]', '[MASK]', '。', '伟', '大', '的', '无', '产', '阶', '级', '革', '命', '家', '、', '政', '治', '家', '，', '著', '名', '社', '会', '活', '动', '家', '，', '坚', '定', '的', '马', '克', '思', '主', '义', '者', '，', '党', '和', '国', '家', '的', '卓', '越', '领', '导', '人', '，', '中', '国', '妇', '女', '运', '动', '的', '先', '驱', '。', '[SEP]', '[PAD]', '[PAD]', '[PAD]', '[PAD]', '[PAD]', '[PAD]', '[PAD]', '[PAD]', '[PAD]', '[PAD]', '[PAD]', '[PAD]', '[PAD]', '[PAD]', '[PAD]', '[PAD]', '[PAD]', '[PAD]', '[PAD]', '[PAD]', '[PAD]', '[PAD]', '[PAD]', '[PAD]', '[PAD]', '[PAD]', '[PAD]', '[PAD]', '[PAD]', '[PAD]', '[PAD]', '[PAD]', '[PAD]', '[PAD]', '[PAD]', '[PAD]', '[PAD]', '[PAD]', '[PAD]', '[PAD]', '[PAD]', '[PAD]', '[PAD]', '[PAD]', '[PAD]', '[PAD]', '[PAD]', '[PAD]', '[PAD]', '[PAD]', '[PAD]', '[PAD]', '[PAD]', '[PAD]', '[PAD]', '[PAD]', '[PAD]', '[PAD]', '[PAD]', '[PAD]', '[PAD]', '[PAD]', '[PAD]', '[PAD]', '[PAD]', '[PAD]', '[PAD]', '[PAD]', '[PAD]', '[PAD]', '[PAD]', '[PAD]', '[PAD]', '[PAD]', '[PAD]', '[PAD]', '[PAD]', '[PAD]', '[PAD]', '[PAD]', '[PAD]', '[PAD]', '[PAD]', '[PAD]', '[PAD]', '[PAD]', '[PAD]', '[PAD]', '[PAD]', '[PAD]', '[PAD]', '[PAD]', '[PAD]', '[PAD]', '[PAD]', '[PAD]', '[PAD]', '[PAD]', '[PAD]', '[PAD]', '[PAD]', '[PAD]', '[PAD]', '[PAD]', '[PAD]', '[PAD]', '[PAD]', '[PAD]', '[PAD]', '[PAD]', '[PAD]', '[PAD]', '[PAD]', '[PAD]', '[PAD]', '[PAD]', '[PAD]', '[PAD]', '[PAD]', '[PAD]', '[PAD]', '[PAD]', '[PAD]', '[PAD]', '[PAD]', '[PAD]', '[PAD]', '[PAD]', '[PAD]', '[PAD]', '[PAD]', '[PAD]', '[PAD]', '[PAD]', '[PAD]', '[PAD]', '[PAD]', '[PAD]', '[PAD]', '[PAD]', '[PAD]', '[PAD]', '[PAD]', '[PAD]', '[PAD]', '[PAD]', '[PAD]', '[PAD]', '[PAD]', '[PAD]', '[PAD]', '[PAD]', '[PAD]', '[PAD]', '[PAD]', '[PAD]', '[PAD]', '[PAD]', '[PAD]', '[PAD]', '[PAD]', '[PAD]', '[PAD]', '[PAD]', '[PAD]', '[PAD]', '[PAD]', '[PAD]', '[PAD]', '[PAD]', '[PAD]', '[PAD]', '[PAD]', '[PAD]', '[PAD]', '[PAD]', '[PAD]', '[PAD]', '[PAD]', '[PAD]', '[PAD]', '[PAD]', '[PAD]', '[PAD]', '[PAD]', '[PAD]', '[PAD]', '[PAD]', '[PAD]', '[PAD]', '[PAD]', '[PAD]', '[PAD]', '[PAD]', '[PAD]', '[PAD]', '[PAD]', '[PAD]', '[PAD]', '[PAD]', '[PAD]', '[PAD]', '[PAD]', '[PAD]', '[PAD]', '[PAD]', '[PAD]', '[PAD]', '[PAD]', '[PAD]', '[PAD]', '[PAD]', '[PAD]', '[PAD]', '[PAD]', '[PAD]', '[PAD]', '[PAD]', '[PAD]', '[PAD]', '[PAD]', '[PAD]', '[PAD]', '[PAD]', '[PAD]', '[PAD]', '[PAD]', '[PAD]', '[PAD]', '[PAD]', '[PAD]', '[PAD]', '[PAD]', '[PAD]', '[PAD]', '[PAD]', '[PAD]', '[PAD]', '[PAD]', '[PAD]', '[PAD]', '[PAD]', '[PAD]', '[PAD]', '[PAD]', '[PAD]', '[PAD]', '[PAD]', '[PAD]', '[PAD]', '[PAD]', '[PAD]', '[PAD]', '[PAD]', '[PAD]', '[PAD]', '[PAD]', '[PAD]', '[PAD]', '[PAD]', '[PAD]', '[PAD]', '[PAD]', '[PAD]', '[PAD]', '[PAD]', '[PAD]', '[PAD]', '[PAD]', '[PAD]', '[PAD]', '[PAD]', '[PAD]', '[PAD]', '[PAD]', '[PAD]', '[PAD]', '[PAD]', '[PAD]', '[PAD]', '[PAD]', '[PAD]', '[PAD]', '[PAD]', '[PAD]', '[PAD]', '[PAD]', '[PAD]', '[PAD]', '[PAD]', '[PAD]', '[PAD]', '[PAD]', '[PAD]', '[PAD]', '[PAD]', '[PAD]', '[PAD]', '[PAD]', '[PAD]', '[PAD]', '[PAD]', '[PAD]', '[PAD]', '[PAD]', '[PAD]', '[PAD]', '[PAD]', '[PAD]', '[PAD]', '[PAD]', '[PAD]', '[PAD]', '[PAD]', '[PAD]', '[PAD]', '[PAD]', '[PAD]', '[PAD]', '[PAD]', '[PAD]', '[PAD]', '[PAD]', '[PAD]', '[PAD]', '[PAD]', '[PAD]', '[PAD]', '[PAD]', '[PAD]', '[PAD]', '[PAD]', '[PAD]', '[PAD]', '[PAD]', '[PAD]', '[PAD]', '[PAD]', '[PAD]', '[PAD]', '[PAD]', '[PAD]', '[PAD]', '[PAD]', '[PAD]', '[PAD]', '[PAD]', '[PAD]', '[PAD]', '[PAD]', '[PAD]', '[PAD]', '[PAD]', '[PAD]', '[PAD]', '[PAD]', '[PAD]', '[PAD]', '[PAD]', '[PAD]', '[PAD]', '[PAD]', '[PAD]', '[PAD]', '[PAD]', '[PAD]', '[PAD]', '[PAD]', '[PAD]', '[PAD]', '[PAD]', '[PAD]', '[PAD]', '[PAD]', '[PAD]', '[PAD]', '[PAD]', '[PAD]', '[PAD]', '[PAD]', '[PAD]', '[PAD]', '[SEP]'] [CLS] 邓 颖 超 （ 1 9 0 4 年 2 月 4 日 - 1 9 9 2 年 7 月 1 1 日 ） ， 河 南 省 光 山 人 ， 生 于 广 西 南 宁 ， 1 9 2 4 年 加 入 中 国 社 会 主 义 青 年 团 ， 1 9 2 5 年 3 月 ， 加 入 中 国 [MASK] [MASK] [MASK] 。 伟 大 的 无 产 阶 级 革 命 家 、 政 治 家 ， 著 名 社 会 活 动 家 ， 坚 定 的 马 克 思 主 义 者 ， 党 和 国 家 的 卓 越 领 导 人 ， 中 国 妇 女 运 动 的 先 驱 。 [SEP] [PAD] [PAD] [PAD] [PAD] [PAD] [PAD] [PAD] [PAD] [PAD] [PAD] [PAD] [PAD] [PAD] [PAD] [PAD] [PAD] [PAD] [PAD] [PAD] [PAD] [PAD] [PAD] [PAD] [PAD] [PAD] [PAD] [PAD] [PAD] [PAD] [PAD] [PAD] [PAD] [PAD] [PAD] [PAD] [PAD] [PAD] [PAD] [PAD] [PAD] [PAD] [PAD] [PAD] [PAD] [PAD] [PAD] [PAD] [PAD] [PAD] [PAD] [PAD] [PAD] [PAD] [PAD] [PAD] [PAD] [PAD] [PAD] [PAD] [PAD] [PAD] [PAD] [PAD] [PAD] [PAD] [PAD] [PAD] [PAD] [PAD] [PAD] [PAD] [PAD] [PAD] [PAD] [PAD] [PAD] [PAD] [PAD] [PAD] [PAD] [PAD] [PAD] [PAD] [PAD] [PAD] [PAD] [PAD] [PAD] [PAD] [PAD] [PAD] [PAD] [PAD] [PAD] [PAD] [PAD] [PAD] [PAD] [PAD] [PAD] [PAD] [PAD] [PAD] [PAD] [PAD] [PAD] [PAD] [PAD] [PAD] [PAD] [PAD] [PAD] [PAD] [PAD] [PAD] [PAD] [PAD] [PAD] [PAD] [PAD] [PAD] [PAD] [PAD] [PAD] [PAD] [PAD] [PAD] [PAD] [PAD] [PAD] [PAD] [PAD] [PAD] [PAD] [PAD] [PAD] [PAD] [PAD] [PAD] [PAD] [PAD] [PAD] [PAD] [PAD] [PAD] [PAD] [PAD] [PAD] [PAD] [PAD] [PAD] [PAD] [PAD] [PAD] [PAD] [PAD] [PAD] [PAD] [PAD] [PAD] [PAD] [PAD] [PAD] [PAD] [PAD] [PAD] [PAD] [PAD] [PAD] [PAD] [PAD] [PAD] [PAD] [PAD] [PAD] [PAD] [PAD] [PAD] [PAD] [PAD] [PAD] [PAD] [PAD] [PAD] [PAD] [PAD] [PAD] [PAD] [PAD] [PAD] [PAD] [PAD] [PAD] [PAD] [PAD] [PAD] [PAD] [PAD] [PAD] [PAD] [PAD] [PAD] [PAD] [PAD] [PAD] [PAD] [PAD] [PAD] [PAD] [PAD] [PAD] [PAD] [PAD] [PAD] [PAD] [PAD] [PAD] [PAD] [PAD] [PAD] [PAD] [PAD] [PAD] [PAD] [PAD] [PAD] [PAD] [PAD] [PAD] [PAD] [PAD] [PAD] [PAD] [PAD] [PAD] [PAD] [PAD] [PAD] [PAD] [PAD] [PAD] [PAD] [PAD] [PAD] [PAD] [PAD] [PAD] [PAD] [PAD] [PAD] [PAD] [PAD] [PAD] [PAD] [PAD] [PAD] [PAD] [PAD] [PAD] [PAD] [PAD] [PAD] [PAD] [PAD] [PAD] [PAD] [PAD] [PAD] [PAD] [PAD] [PAD] [PAD] [PAD] [PAD] [PAD] [PAD] [PAD] [PAD] [PAD] [PAD] [PAD] [PAD] [PAD] [PAD] [PAD] [PAD] [PAD] [PAD] [PAD] [PAD] [PAD] [PAD] [PAD] [PAD] [PAD] [PAD] [PAD] [PAD] [PAD] [PAD] [PAD] [PAD] [PAD] [PAD] [PAD] [PAD] [PAD] [PAD] [PAD] [PAD] [PAD] [PAD] [PAD] [PAD] [PAD] [PAD] [PAD] [PAD] [PAD] [PAD] [PAD] [PAD] [PAD] [PAD] [PAD] [PAD] [PAD] [PAD] [PAD] [PAD] [PAD] [PAD] [PAD] [PAD] [PAD] [PAD] [PAD] [PAD] [PAD] [PAD] [PAD] [PAD] [PAD] [PAD] [PAD] [PAD] [PAD] [PAD] [PAD] [PAD] [PAD] [PAD] [PAD] [PAD] [PAD] [PAD] [PAD] [PAD] [PAD] [PAD] [PAD] [PAD] [PAD] [PAD] [PAD] [PAD] [PAD] [PAD] [PAD] [PAD] [PAD] [PAD] [PAD] [PAD] [PAD] [PAD] [PAD] [PAD] [PAD] [PAD] [PAD] [PAD] [SEP]\n",
      "['[CLS]', '邓', '颖', '超', '（', '1', '9', '0', '4', '年', '2', '月', '4', '日', '-', '1', '9', '9', '2', '年', '7', '月', '1', '1', '日', '）', '，', '河', '南', '省', '光', '山', '人', '，', '生', '于', '广', '西', '南', '宁', '，', '[MASK]', '[MASK]', '[MASK]', '[MASK]', '年', '加', '入', '中', '国', '社', '会', '主', '义', '青', '年', '团', '，', '1', '9', '2', '5', '年', '3', '月', '，', '加', '入', '中', '国', '共', '产', '党', '。', '伟', '大', '的', '无', '产', '阶', '级', '革', '命', '家', '、', '政', '治', '家', '，', '著', '名', '社', '会', '活', '动', '家', '，', '坚', '定', '的', '马', '克', '思', '主', '义', '者', '，', '党', '和', '国', '家', '的', '卓', '越', '领', '导', '人', '，', '中', '国', '妇', '女', '运', '动', '的', '先', '驱', '。', '[SEP]', '[PAD]', '[PAD]', '[PAD]', '[PAD]', '[PAD]', '[PAD]', '[PAD]', '[PAD]', '[PAD]', '[PAD]', '[PAD]', '[PAD]', '[PAD]', '[PAD]', '[PAD]', '[PAD]', '[PAD]', '[PAD]', '[PAD]', '[PAD]', '[PAD]', '[PAD]', '[PAD]', '[PAD]', '[PAD]', '[PAD]', '[PAD]', '[PAD]', '[PAD]', '[PAD]', '[PAD]', '[PAD]', '[PAD]', '[PAD]', '[PAD]', '[PAD]', '[PAD]', '[PAD]', '[PAD]', '[PAD]', '[PAD]', '[PAD]', '[PAD]', '[PAD]', '[PAD]', '[PAD]', '[PAD]', '[PAD]', '[PAD]', '[PAD]', '[PAD]', '[PAD]', '[PAD]', '[PAD]', '[PAD]', '[PAD]', '[PAD]', '[PAD]', '[PAD]', '[PAD]', '[PAD]', '[PAD]', '[PAD]', '[PAD]', '[PAD]', '[PAD]', '[PAD]', '[PAD]', '[PAD]', '[PAD]', '[PAD]', '[PAD]', '[PAD]', '[PAD]', '[PAD]', '[PAD]', '[PAD]', '[PAD]', '[PAD]', '[PAD]', '[PAD]', '[PAD]', '[PAD]', '[PAD]', '[PAD]', '[PAD]', '[PAD]', '[PAD]', '[PAD]', '[PAD]', '[PAD]', '[PAD]', '[PAD]', '[PAD]', '[PAD]', '[PAD]', '[PAD]', '[PAD]', '[PAD]', '[PAD]', '[PAD]', '[PAD]', '[PAD]', '[PAD]', '[PAD]', '[PAD]', '[PAD]', '[PAD]', '[PAD]', '[PAD]', '[PAD]', '[PAD]', '[PAD]', '[PAD]', '[PAD]', '[PAD]', '[PAD]', '[PAD]', '[PAD]', '[PAD]', '[PAD]', '[PAD]', '[PAD]', '[PAD]', '[PAD]', '[PAD]', '[PAD]', '[PAD]', '[PAD]', '[PAD]', '[PAD]', '[PAD]', '[PAD]', '[PAD]', '[PAD]', '[PAD]', '[PAD]', '[PAD]', '[PAD]', '[PAD]', '[PAD]', '[PAD]', '[PAD]', '[PAD]', '[PAD]', '[PAD]', '[PAD]', '[PAD]', '[PAD]', '[PAD]', '[PAD]', '[PAD]', '[PAD]', '[PAD]', '[PAD]', '[PAD]', '[PAD]', '[PAD]', '[PAD]', '[PAD]', '[PAD]', '[PAD]', '[PAD]', '[PAD]', '[PAD]', '[PAD]', '[PAD]', '[PAD]', '[PAD]', '[PAD]', '[PAD]', '[PAD]', '[PAD]', '[PAD]', '[PAD]', '[PAD]', '[PAD]', '[PAD]', '[PAD]', '[PAD]', '[PAD]', '[PAD]', '[PAD]', '[PAD]', '[PAD]', '[PAD]', '[PAD]', '[PAD]', '[PAD]', '[PAD]', '[PAD]', '[PAD]', '[PAD]', '[PAD]', '[PAD]', '[PAD]', '[PAD]', '[PAD]', '[PAD]', '[PAD]', '[PAD]', '[PAD]', '[PAD]', '[PAD]', '[PAD]', '[PAD]', '[PAD]', '[PAD]', '[PAD]', '[PAD]', '[PAD]', '[PAD]', '[PAD]', '[PAD]', '[PAD]', '[PAD]', '[PAD]', '[PAD]', '[PAD]', '[PAD]', '[PAD]', '[PAD]', '[PAD]', '[PAD]', '[PAD]', '[PAD]', '[PAD]', '[PAD]', '[PAD]', '[PAD]', '[PAD]', '[PAD]', '[PAD]', '[PAD]', '[PAD]', '[PAD]', '[PAD]', '[PAD]', '[PAD]', '[PAD]', '[PAD]', '[PAD]', '[PAD]', '[PAD]', '[PAD]', '[PAD]', '[PAD]', '[PAD]', '[PAD]', '[PAD]', '[PAD]', '[PAD]', '[PAD]', '[PAD]', '[PAD]', '[PAD]', '[PAD]', '[PAD]', '[PAD]', '[PAD]', '[PAD]', '[PAD]', '[PAD]', '[PAD]', '[PAD]', '[PAD]', '[PAD]', '[PAD]', '[PAD]', '[PAD]', '[PAD]', '[PAD]', '[PAD]', '[PAD]', '[PAD]', '[PAD]', '[PAD]', '[PAD]', '[PAD]', '[PAD]', '[PAD]', '[PAD]', '[PAD]', '[PAD]', '[PAD]', '[PAD]', '[PAD]', '[PAD]', '[PAD]', '[PAD]', '[PAD]', '[PAD]', '[PAD]', '[PAD]', '[PAD]', '[PAD]', '[PAD]', '[PAD]', '[PAD]', '[PAD]', '[PAD]', '[PAD]', '[PAD]', '[PAD]', '[PAD]', '[PAD]', '[PAD]', '[PAD]', '[PAD]', '[PAD]', '[PAD]', '[PAD]', '[PAD]', '[PAD]', '[PAD]', '[PAD]', '[PAD]', '[PAD]', '[PAD]', '[PAD]', '[PAD]', '[PAD]', '[PAD]', '[PAD]', '[PAD]', '[PAD]', '[PAD]', '[PAD]', '[PAD]', '[PAD]', '[PAD]', '[PAD]', '[PAD]', '[PAD]', '[PAD]', '[PAD]', '[PAD]', '[PAD]', '[PAD]', '[PAD]', '[PAD]', '[PAD]', '[PAD]', '[PAD]', '[PAD]', '[PAD]', '[PAD]', '[PAD]', '[PAD]', '[PAD]', '[PAD]', '[PAD]', '[PAD]', '[PAD]', '[PAD]', '[PAD]', '[PAD]', '[PAD]', '[PAD]', '[PAD]', '[PAD]', '[PAD]', '[PAD]', '[PAD]', '[PAD]', '[PAD]', '[PAD]', '[PAD]', '[PAD]', '[PAD]', '[PAD]', '[PAD]', '[PAD]', '[PAD]', '[PAD]', '[PAD]', '[PAD]', '[PAD]', '[PAD]', '[PAD]', '[PAD]', '[PAD]', '[SEP]'] [CLS] 邓 颖 超 （ 1 9 0 4 年 2 月 4 日 - 1 9 9 2 年 7 月 1 1 日 ） ， 河 南 省 光 山 人 ， 生 于 广 西 南 宁 ， [MASK] [MASK] [MASK] [MASK] 年 加 入 中 国 社 会 主 义 青 年 团 ， 1 9 2 5 年 3 月 ， 加 入 中 国 共 产 党 。 伟 大 的 无 产 阶 级 革 命 家 、 政 治 家 ， 著 名 社 会 活 动 家 ， 坚 定 的 马 克 思 主 义 者 ， 党 和 国 家 的 卓 越 领 导 人 ， 中 国 妇 女 运 动 的 先 驱 。 [SEP] [PAD] [PAD] [PAD] [PAD] [PAD] [PAD] [PAD] [PAD] [PAD] [PAD] [PAD] [PAD] [PAD] [PAD] [PAD] [PAD] [PAD] [PAD] [PAD] [PAD] [PAD] [PAD] [PAD] [PAD] [PAD] [PAD] [PAD] [PAD] [PAD] [PAD] [PAD] [PAD] [PAD] [PAD] [PAD] [PAD] [PAD] [PAD] [PAD] [PAD] [PAD] [PAD] [PAD] [PAD] [PAD] [PAD] [PAD] [PAD] [PAD] [PAD] [PAD] [PAD] [PAD] [PAD] [PAD] [PAD] [PAD] [PAD] [PAD] [PAD] [PAD] [PAD] [PAD] [PAD] [PAD] [PAD] [PAD] [PAD] [PAD] [PAD] [PAD] [PAD] [PAD] [PAD] [PAD] [PAD] [PAD] [PAD] [PAD] [PAD] [PAD] [PAD] [PAD] [PAD] [PAD] [PAD] [PAD] [PAD] [PAD] [PAD] [PAD] [PAD] [PAD] [PAD] [PAD] [PAD] [PAD] [PAD] [PAD] [PAD] [PAD] [PAD] [PAD] [PAD] [PAD] [PAD] [PAD] [PAD] [PAD] [PAD] [PAD] [PAD] [PAD] [PAD] [PAD] [PAD] [PAD] [PAD] [PAD] [PAD] [PAD] [PAD] [PAD] [PAD] [PAD] [PAD] [PAD] [PAD] [PAD] [PAD] [PAD] [PAD] [PAD] [PAD] [PAD] [PAD] [PAD] [PAD] [PAD] [PAD] [PAD] [PAD] [PAD] [PAD] [PAD] [PAD] [PAD] [PAD] [PAD] [PAD] [PAD] [PAD] [PAD] [PAD] [PAD] [PAD] [PAD] [PAD] [PAD] [PAD] [PAD] [PAD] [PAD] [PAD] [PAD] [PAD] [PAD] [PAD] [PAD] [PAD] [PAD] [PAD] [PAD] [PAD] [PAD] [PAD] [PAD] [PAD] [PAD] [PAD] [PAD] [PAD] [PAD] [PAD] [PAD] [PAD] [PAD] [PAD] [PAD] [PAD] [PAD] [PAD] [PAD] [PAD] [PAD] [PAD] [PAD] [PAD] [PAD] [PAD] [PAD] [PAD] [PAD] [PAD] [PAD] [PAD] [PAD] [PAD] [PAD] [PAD] [PAD] [PAD] [PAD] [PAD] [PAD] [PAD] [PAD] [PAD] [PAD] [PAD] [PAD] [PAD] [PAD] [PAD] [PAD] [PAD] [PAD] [PAD] [PAD] [PAD] [PAD] [PAD] [PAD] [PAD] [PAD] [PAD] [PAD] [PAD] [PAD] [PAD] [PAD] [PAD] [PAD] [PAD] [PAD] [PAD] [PAD] [PAD] [PAD] [PAD] [PAD] [PAD] [PAD] [PAD] [PAD] [PAD] [PAD] [PAD] [PAD] [PAD] [PAD] [PAD] [PAD] [PAD] [PAD] [PAD] [PAD] [PAD] [PAD] [PAD] [PAD] [PAD] [PAD] [PAD] [PAD] [PAD] [PAD] [PAD] [PAD] [PAD] [PAD] [PAD] [PAD] [PAD] [PAD] [PAD] [PAD] [PAD] [PAD] [PAD] [PAD] [PAD] [PAD] [PAD] [PAD] [PAD] [PAD] [PAD] [PAD] [PAD] [PAD] [PAD] [PAD] [PAD] [PAD] [PAD] [PAD] [PAD] [PAD] [PAD] [PAD] [PAD] [PAD] [PAD] [PAD] [PAD] [PAD] [PAD] [PAD] [PAD] [PAD] [PAD] [PAD] [PAD] [PAD] [PAD] [PAD] [PAD] [PAD] [PAD] [PAD] [PAD] [PAD] [PAD] [PAD] [PAD] [PAD] [PAD] [PAD] [PAD] [PAD] [PAD] [PAD] [PAD] [PAD] [PAD] [PAD] [PAD] [PAD] [PAD] [PAD] [PAD] [PAD] [PAD] [PAD] [PAD] [PAD] [PAD] [PAD] [PAD] [PAD] [PAD] [PAD] [PAD] [PAD] [PAD] [PAD] [PAD] [PAD] [PAD] [PAD] [PAD] [PAD] [PAD] [PAD] [PAD] [PAD] [PAD] [PAD] [PAD] [PAD] [PAD] [SEP]\n"
     ]
    }
   ],
   "source": [
    "for chars_l_512,chars_512 in zip(chars_list_512,chars_str_512):\n",
    "    print(chars_l_512,chars_512)"
   ]
  },
  {
   "cell_type": "code",
   "execution_count": 59,
   "id": "monetary-person",
   "metadata": {},
   "outputs": [],
   "source": [
    "#加载词典\n",
    "tokenizer = BertTokenizer.from_pretrained('bert-base-chinese')\n",
    "\n",
    "all_tokens_tensor = []\n",
    "all_segments_tensors = []\n",
    "for word_str in chars_list_512:\n",
    "    # 将 token 转为 vocabulary 索引\n",
    "    indexed_tokens = tokenizer.convert_tokens_to_ids(word_str)\n",
    "\n",
    "    # 定义句子 A、B 索引\n",
    "    segments_ids = [0]*len(word_str)\n",
    "    \n",
    "    # 将 inputs 转为 PyTorch tensors\n",
    "    tokens_tensor = torch.tensor([indexed_tokens])\n",
    "    segments_tensors = torch.tensor([segments_ids])\n",
    "    \n",
    "    all_tokens_tensor.append(tokens_tensor)\n",
    "    all_segments_tensors.append(segments_tensors)"
   ]
  },
  {
   "cell_type": "code",
   "execution_count": 64,
   "id": "smoking-parliament",
   "metadata": {},
   "outputs": [
    {
     "name": "stderr",
     "output_type": "stream",
     "text": [
      "Some weights of the model checkpoint at bert-base-chinese were not used when initializing BertForMaskedLM: ['cls.seq_relationship.weight', 'cls.seq_relationship.bias']\n",
      "- This IS expected if you are initializing BertForMaskedLM from the checkpoint of a model trained on another task or with another architecture (e.g. initializing a BertForSequenceClassification model from a BertForPreTraining model).\n",
      "- This IS NOT expected if you are initializing BertForMaskedLM from the checkpoint of a model that you expect to be exactly identical (initializing a BertForSequenceClassification model from a BertForSequenceClassification model).\n"
     ]
    },
    {
     "name": "stdout",
     "output_type": "stream",
     "text": [
      "[1, 2, 3]\n",
      "刘\n",
      "志\n",
      "东\n",
      "[158, 159, 160]\n",
      "周\n",
      "近\n",
      "来\n",
      "[48, 49, 50, 51]\n",
      "江\n",
      "苏\n",
      "淮\n",
      "州\n",
      "[64, 65, 66, 67]\n",
      "浙\n",
      "江\n",
      "绍\n",
      "兴\n",
      "[78, 79, 80]\n",
      "共\n",
      "产\n",
      "党\n",
      "[1, 2, 3]\n",
      "王\n",
      "晓\n",
      "华\n",
      "[36, 37, 38, 39]\n",
      "1949\n",
      "年\n",
      "2\n",
      "月\n",
      "[70, 71, 72]\n",
      "共\n",
      "产\n",
      "党\n",
      "[41, 42, 43, 44]\n",
      "1\n",
      "9\n",
      "2\n",
      "4\n"
     ]
    }
   ],
   "source": [
    "# 加载模型 pre-trained model (weights)\n",
    "model = BertForMaskedLM.from_pretrained('bert-base-chinese')\n",
    "model.eval()\n",
    " \n",
    "for tokens_tensor,segments_tensors,masked_idxs in zip(all_tokens_tensor,all_segments_tensors,masked_idxs_list):\n",
    "    # cuda\n",
    "    tokens_tensor = tokens_tensor.to('cuda')\n",
    "    segments_tensors = segments_tensors.to('cuda')\n",
    "    model.to('cuda')\n",
    "\n",
    "    # Predict all tokens\n",
    "    with torch.no_grad():\n",
    "        predictions = model(tokens_tensor, segments_tensors)\n",
    "        \n",
    "    print(masked_idxs)\n",
    "    # confirm we were able to predict 'henson'\n",
    "    for idx in masked_idxs:\n",
    "        predicted_index = torch.argmax(predictions.logits[0, idx]).item()\n",
    "        predicted_token = tokenizer.convert_ids_to_tokens([predicted_index])[0]\n",
    "        print(predicted_token)"
   ]
  },
  {
   "cell_type": "markdown",
   "id": "fourth-ambassador",
   "metadata": {},
   "source": [
    "bert做完形填空\n",
    "正确答案:周恩来 毛泽东 浙江绍兴 江苏淮安 共产党 邓颖超 广西南宁 共产党 1924\n",
    "bert答案:刘志东 周近来 江苏淮洲 浙江绍兴 共产党 王晓华 1949年2月 共产党 1924"
   ]
  }
 ],
 "metadata": {
  "kernelspec": {
   "display_name": "Python 3",
   "language": "python",
   "name": "python3"
  },
  "language_info": {
   "codemirror_mode": {
    "name": "ipython",
    "version": 3
   },
   "file_extension": ".py",
   "mimetype": "text/x-python",
   "name": "python",
   "nbconvert_exporter": "python",
   "pygments_lexer": "ipython3",
   "version": "3.8.5"
  }
 },
 "nbformat": 4,
 "nbformat_minor": 5
}
